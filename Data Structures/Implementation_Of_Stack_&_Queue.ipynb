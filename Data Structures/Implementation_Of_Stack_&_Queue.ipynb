{
  "nbformat": 4,
  "nbformat_minor": 0,
  "metadata": {
    "colab": {
      "name": "Implementation Of Stack & Queue.ipynb",
      "version": "0.3.2",
      "provenance": []
    },
    "kernelspec": {
      "name": "python3",
      "display_name": "Python 3"
    }
  },
  "cells": [
    {
      "metadata": {
        "id": "i8FpiGRM7Zqy",
        "colab_type": "text"
      },
      "cell_type": "markdown",
      "source": [
        "# Implementation Of Stack"
      ]
    },
    {
      "metadata": {
        "id": "dgwCoNjN8UBo",
        "colab_type": "code",
        "colab": {}
      },
      "cell_type": "code",
      "source": [
        "class Stack:\n",
        "\n",
        "    def __init__(self):\n",
        "        self.stack = []\n",
        "\n",
        "    def add(self, dataval):\n",
        "# Use list append method to add element\n",
        "        if dataval not in self.stack:\n",
        "            self.stack.append(dataval)\n",
        "            return True\n",
        "        else:\n",
        "            return False\n",
        "# Use peek to look at the top of the stack\n",
        "\n",
        "    def peek(self):     \n",
        "\t    return self.stack[-1]\n",
        "\n",
        "# Use list pop method to remove element\n",
        "    def remove(self):\n",
        "        if len(self.stack) <= 0:\n",
        "            return (\"No element in the Stack\")\n",
        "        else:\n",
        "            return self.stack.pop()"
      ],
      "execution_count": 0,
      "outputs": []
    },
    {
      "metadata": {
        "id": "Hxtrg2aK9Jtb",
        "colab_type": "code",
        "colab": {
          "base_uri": "https://localhost:8080/",
          "height": 102
        },
        "outputId": "342ac368-b248-476d-d6ea-13e9c503f88a"
      },
      "cell_type": "code",
      "source": [
        "AStack = Stack()\n",
        "AStack.add(\"Mon\")\n",
        "AStack.add(\"Tue\")\n",
        "#AStack.peek()\n",
        "print(\"Peep\", AStack.peek())\n",
        "AStack.add(\"Wed\")\n",
        "AStack.add(\"Thu\")\n",
        "print(\"Peep\", AStack.peek())\n",
        "print(\"popped\",AStack.remove())\n",
        "#AStack.peek()\n",
        "print(\"Peep\", AStack.peek())\n",
        "print(AStack.remove())"
      ],
      "execution_count": 2,
      "outputs": [
        {
          "output_type": "stream",
          "text": [
            "Peep Tue\n",
            "Peep Thu\n",
            "popped Thu\n",
            "Peep Wed\n",
            "Wed\n"
          ],
          "name": "stdout"
        }
      ]
    },
    {
      "metadata": {
        "id": "bBXIVJns8BAm",
        "colab_type": "text"
      },
      "cell_type": "markdown",
      "source": [
        "# Implementation Of Queue"
      ]
    },
    {
      "metadata": {
        "id": "mJOFIbJO989X",
        "colab_type": "code",
        "colab": {
          "base_uri": "https://localhost:8080/",
          "height": 51
        },
        "outputId": "2667f120-881c-4918-d239-b6d0848f1e24"
      },
      "cell_type": "code",
      "source": [
        "class Queue:\n",
        "    def __init__(self):\n",
        "        self.items = []\n",
        "\n",
        "    def isEmpty(self):\n",
        "        return self.items == []\n",
        "\n",
        "    def enqueue(self, item):\n",
        "        self.items.insert(0,item)\n",
        "\n",
        "    def dequeue(self):\n",
        "        return self.items.pop()\n",
        "\n",
        "    def size(self):\n",
        "        return len(self.items)\n",
        "      \n",
        "    def display(self):\n",
        "      for item in self.items:\n",
        "        print(item)\n",
        " \n",
        " \n",
        "q = Queue()\n",
        "q.enqueue(5)\n",
        "q.enqueue(10)\n",
        "q.enqueue(15)\n",
        "q.dequeue()\n",
        "q.display()"
      ],
      "execution_count": 7,
      "outputs": [
        {
          "output_type": "stream",
          "text": [
            "15\n",
            "10\n"
          ],
          "name": "stdout"
        }
      ]
    },
    {
      "metadata": {
        "id": "RG0NHxOz70gX",
        "colab_type": "code",
        "colab": {}
      },
      "cell_type": "code",
      "source": [
        ""
      ],
      "execution_count": 0,
      "outputs": []
    }
  ]
}