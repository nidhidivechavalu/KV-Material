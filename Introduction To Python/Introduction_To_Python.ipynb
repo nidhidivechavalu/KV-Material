{
  "nbformat": 4,
  "nbformat_minor": 0,
  "metadata": {
    "colab": {
      "name": "Introduction To Python.ipynb",
      "version": "0.3.2",
      "provenance": []
    },
    "kernelspec": {
      "name": "python3",
      "display_name": "Python 3"
    }
  },
  "cells": [
    {
      "metadata": {
        "id": "gwQULmoYDLpy",
        "colab_type": "text"
      },
      "cell_type": "markdown",
      "source": [
        "# Introduction To Python\n",
        "![alt text](https://cognitiveclass.ai/wp-content/uploads/2016/10/Machine-Learning-with-Python.png)"
      ]
    },
    {
      "metadata": {
        "id": "C3Yjr41cDvu_",
        "colab_type": "text"
      },
      "cell_type": "markdown",
      "source": [
        "## Basics Of Python"
      ]
    },
    {
      "metadata": {
        "id": "VK0-qUK-DyF7",
        "colab_type": "text"
      },
      "cell_type": "markdown",
      "source": [
        "### Variables In Python"
      ]
    },
    {
      "metadata": {
        "id": "j_U8xtiDDHXS",
        "colab_type": "code",
        "colab": {}
      },
      "cell_type": "code",
      "source": [
        "variableName = \"KV\"\n",
        "variableInteger = 10\n",
        "variableFloat = 10.5"
      ],
      "execution_count": 0,
      "outputs": []
    },
    {
      "metadata": {
        "id": "ubJ68flYD7fv",
        "colab_type": "code",
        "colab": {
          "base_uri": "https://localhost:8080/",
          "height": 34
        },
        "outputId": "3958418f-faff-4dc6-9908-b338a834d0fb"
      },
      "cell_type": "code",
      "source": [
        "type(variableName)\n"
      ],
      "execution_count": 4,
      "outputs": [
        {
          "output_type": "execute_result",
          "data": {
            "text/plain": [
              "str"
            ]
          },
          "metadata": {
            "tags": []
          },
          "execution_count": 4
        }
      ]
    },
    {
      "metadata": {
        "id": "NU3HSqg3EFaY",
        "colab_type": "code",
        "colab": {
          "base_uri": "https://localhost:8080/",
          "height": 34
        },
        "outputId": "e8a0ca06-3d19-4d66-84ec-30087c71ba38"
      },
      "cell_type": "code",
      "source": [
        "type(variableInteger)"
      ],
      "execution_count": 5,
      "outputs": [
        {
          "output_type": "execute_result",
          "data": {
            "text/plain": [
              "int"
            ]
          },
          "metadata": {
            "tags": []
          },
          "execution_count": 5
        }
      ]
    },
    {
      "metadata": {
        "id": "SlPxRUdvEI3k",
        "colab_type": "code",
        "colab": {
          "base_uri": "https://localhost:8080/",
          "height": 34
        },
        "outputId": "87244b45-f766-464b-c8fa-08ad6f0bbdf3"
      },
      "cell_type": "code",
      "source": [
        "type(variableFloat)"
      ],
      "execution_count": 6,
      "outputs": [
        {
          "output_type": "execute_result",
          "data": {
            "text/plain": [
              "float"
            ]
          },
          "metadata": {
            "tags": []
          },
          "execution_count": 6
        }
      ]
    },
    {
      "metadata": {
        "id": "eElDqAnLELAx",
        "colab_type": "text"
      },
      "cell_type": "markdown",
      "source": [
        "### Print Function In Python"
      ]
    },
    {
      "metadata": {
        "id": "BrXYa4eQEJYB",
        "colab_type": "code",
        "colab": {
          "base_uri": "https://localhost:8080/",
          "height": 68
        },
        "outputId": "5020cc7c-f358-4b56-cd5a-27cb044202ea"
      },
      "cell_type": "code",
      "source": [
        "print(variableName)\n",
        "print(variableInteger)\n",
        "print(variableFloat)"
      ],
      "execution_count": 7,
      "outputs": [
        {
          "output_type": "stream",
          "text": [
            "KV\n",
            "10\n",
            "10.5\n"
          ],
          "name": "stdout"
        }
      ]
    },
    {
      "metadata": {
        "id": "iaM8ScVJERcM",
        "colab_type": "code",
        "colab": {
          "base_uri": "https://localhost:8080/",
          "height": 34
        },
        "outputId": "b49134b9-ee23-4201-a81c-7ea506c10f78"
      },
      "cell_type": "code",
      "source": [
        "print(\"Hello Good Morning All Of You\")"
      ],
      "execution_count": 8,
      "outputs": [
        {
          "output_type": "stream",
          "text": [
            "Hello Good Morning All Of You\n"
          ],
          "name": "stdout"
        }
      ]
    },
    {
      "metadata": {
        "id": "InVAw3izEU99",
        "colab_type": "code",
        "colab": {
          "base_uri": "https://localhost:8080/",
          "height": 34
        },
        "outputId": "1e743a46-58cd-4a11-b374-b00d3b81e1f3"
      },
      "cell_type": "code",
      "source": [
        "name = \"KV\"\n",
        "print(\"Hello Good Morning !\",name)"
      ],
      "execution_count": 9,
      "outputs": [
        {
          "output_type": "stream",
          "text": [
            "Hello Good Morning ! KV\n"
          ],
          "name": "stdout"
        }
      ]
    },
    {
      "metadata": {
        "id": "VRCtALFnEeKL",
        "colab_type": "text"
      },
      "cell_type": "markdown",
      "source": [
        "### Input Function In Python"
      ]
    },
    {
      "metadata": {
        "id": "ndRVlY-QEcJr",
        "colab_type": "code",
        "colab": {
          "base_uri": "https://localhost:8080/",
          "height": 34
        },
        "outputId": "23d39b01-1838-4d28-9e3b-a6246f3f58c0"
      },
      "cell_type": "code",
      "source": [
        "value = input(\"Enter Any Value :- \")"
      ],
      "execution_count": 14,
      "outputs": [
        {
          "output_type": "stream",
          "text": [
            "Enter Any Value :- breakfast was yummy\n"
          ],
          "name": "stdout"
        }
      ]
    },
    {
      "metadata": {
        "id": "qzLRu_jcEiji",
        "colab_type": "code",
        "colab": {
          "base_uri": "https://localhost:8080/",
          "height": 34
        },
        "outputId": "28fef594-65e7-4ed1-d375-c37f34116655"
      },
      "cell_type": "code",
      "source": [
        "print(value)"
      ],
      "execution_count": 16,
      "outputs": [
        {
          "output_type": "stream",
          "text": [
            "breakfast was yummy\n"
          ],
          "name": "stdout"
        }
      ]
    },
    {
      "metadata": {
        "id": "VBpWaFRKEm7Z",
        "colab_type": "code",
        "colab": {
          "base_uri": "https://localhost:8080/",
          "height": 51
        },
        "outputId": "f6cc9139-f0ab-4f63-9237-38481a90c745"
      },
      "cell_type": "code",
      "source": [
        "number = int(input(\"Enter Your Number :- \"))\n",
        "print(number)"
      ],
      "execution_count": 17,
      "outputs": [
        {
          "output_type": "stream",
          "text": [
            "Enter Your Number :- 10\n",
            "10\n"
          ],
          "name": "stdout"
        }
      ]
    },
    {
      "metadata": {
        "id": "yltOG-VEFtpv",
        "colab_type": "text"
      },
      "cell_type": "markdown",
      "source": [
        "## Operators In Python"
      ]
    },
    {
      "metadata": {
        "id": "1CasMR2VFyCr",
        "colab_type": "text"
      },
      "cell_type": "markdown",
      "source": [
        "### 1). Arithmetic Operators\n",
        "### 2). Comparison (Relational) Operators\n",
        "### 3). Assignment Operators\n",
        "### 4). Logical Operators\n",
        "### 5). Bitwise Operators\n",
        "### 6). Membership Operators\n",
        "### 7). Identity Operators\n"
      ]
    },
    {
      "metadata": {
        "id": "UkoMVin9E3F-",
        "colab_type": "code",
        "colab": {
          "base_uri": "https://localhost:8080/",
          "height": 34
        },
        "outputId": "d0c70b85-8d67-4e6d-e5ab-430bcf2ee39d"
      },
      "cell_type": "code",
      "source": [
        "# Arithmetic Operations\n",
        "print(10+15)"
      ],
      "execution_count": 19,
      "outputs": [
        {
          "output_type": "stream",
          "text": [
            "25\n"
          ],
          "name": "stdout"
        }
      ]
    },
    {
      "metadata": {
        "id": "C0sRCtbtGHVS",
        "colab_type": "code",
        "colab": {
          "base_uri": "https://localhost:8080/",
          "height": 34
        },
        "outputId": "84e61ded-af79-4d6f-9ab9-8e514da07b4c"
      },
      "cell_type": "code",
      "source": [
        "# Comparision Operators\n",
        "print(10>15)"
      ],
      "execution_count": 20,
      "outputs": [
        {
          "output_type": "stream",
          "text": [
            "False\n"
          ],
          "name": "stdout"
        }
      ]
    },
    {
      "metadata": {
        "id": "RDqM16MdGNh_",
        "colab_type": "code",
        "colab": {
          "base_uri": "https://localhost:8080/",
          "height": 34
        },
        "outputId": "51959a24-1ce1-49cb-afe4-53adf53e8533"
      },
      "cell_type": "code",
      "source": [
        "# Assignment Operators\n",
        "value = 10\n",
        "print(value)"
      ],
      "execution_count": 21,
      "outputs": [
        {
          "output_type": "stream",
          "text": [
            "10\n"
          ],
          "name": "stdout"
        }
      ]
    },
    {
      "metadata": {
        "id": "KPiHCo1pGT6P",
        "colab_type": "code",
        "colab": {
          "base_uri": "https://localhost:8080/",
          "height": 34
        },
        "outputId": "dc6a0b29-d164-4ca7-dd0a-3d9fb85182e1"
      },
      "cell_type": "code",
      "source": [
        "# Logical Operators\n",
        "print(10>15 and 11>15)"
      ],
      "execution_count": 22,
      "outputs": [
        {
          "output_type": "stream",
          "text": [
            "False\n"
          ],
          "name": "stdout"
        }
      ]
    },
    {
      "metadata": {
        "id": "O-9ODuDlGaKu",
        "colab_type": "code",
        "colab": {
          "base_uri": "https://localhost:8080/",
          "height": 34
        },
        "outputId": "08763c39-aea7-4a94-a39a-108d1e96fbb6"
      },
      "cell_type": "code",
      "source": [
        "name = \"Vikram\"\n",
        "print(\"V\" in name)"
      ],
      "execution_count": 23,
      "outputs": [
        {
          "output_type": "stream",
          "text": [
            "True\n"
          ],
          "name": "stdout"
        }
      ]
    },
    {
      "metadata": {
        "id": "2mWM8vgvGhYC",
        "colab_type": "code",
        "colab": {
          "base_uri": "https://localhost:8080/",
          "height": 34
        },
        "outputId": "80215231-f857-40e6-dedf-ca4cbb2aae3c"
      },
      "cell_type": "code",
      "source": [
        "name1 = \"Vikram\" # Capital V\n",
        "name2 = \"vikram\" # Small V\n",
        "\n",
        "print(name1 is name2)"
      ],
      "execution_count": 28,
      "outputs": [
        {
          "output_type": "stream",
          "text": [
            "False\n"
          ],
          "name": "stdout"
        }
      ]
    },
    {
      "metadata": {
        "id": "I-bPOO8uHgQC",
        "colab_type": "text"
      },
      "cell_type": "markdown",
      "source": [
        "## Conditional Statement"
      ]
    },
    {
      "metadata": {
        "id": "Dd3bsuC-Hjww",
        "colab_type": "text"
      },
      "cell_type": "markdown",
      "source": [
        "### Programme To Find Positive, Negative And Zeros From The Given Input Using Conditional Statement"
      ]
    },
    {
      "metadata": {
        "id": "YOgkmDSXGr93",
        "colab_type": "code",
        "colab": {
          "base_uri": "https://localhost:8080/",
          "height": 51
        },
        "outputId": "37929944-293c-47d1-cb8b-130550828345"
      },
      "cell_type": "code",
      "source": [
        "n = int(input(\"Enter Any Number :- \"))\n",
        "\n",
        "if(n>0):\n",
        "  print(\"Number Is Positive\")\n",
        "elif(n<0):\n",
        "  print(\"Number Is Negative\")\n",
        "else:\n",
        "  print(\"Number Is Zero\")"
      ],
      "execution_count": 29,
      "outputs": [
        {
          "output_type": "stream",
          "text": [
            "Enter Any Number :- 10\n",
            "Number Is Positive\n"
          ],
          "name": "stdout"
        }
      ]
    },
    {
      "metadata": {
        "id": "qf7uH1xHIl-M",
        "colab_type": "text"
      },
      "cell_type": "markdown",
      "source": [
        "## Loops In Python"
      ]
    },
    {
      "metadata": {
        "id": "9a53sBKAIpC-",
        "colab_type": "text"
      },
      "cell_type": "markdown",
      "source": [
        "### 1). For Loop\n",
        "### 2). While Loop "
      ]
    },
    {
      "metadata": {
        "id": "7MDhpRZ3IANR",
        "colab_type": "code",
        "colab": {
          "base_uri": "https://localhost:8080/",
          "height": 187
        },
        "outputId": "d92069fd-6c29-4c0d-a4b6-0e76dd65089e"
      },
      "cell_type": "code",
      "source": [
        "for i in range(10):\n",
        "  print(i)"
      ],
      "execution_count": 30,
      "outputs": [
        {
          "output_type": "stream",
          "text": [
            "0\n",
            "1\n",
            "2\n",
            "3\n",
            "4\n",
            "5\n",
            "6\n",
            "7\n",
            "8\n",
            "9\n"
          ],
          "name": "stdout"
        }
      ]
    },
    {
      "metadata": {
        "id": "TT93IIjyIw2O",
        "colab_type": "code",
        "colab": {
          "base_uri": "https://localhost:8080/",
          "height": 187
        },
        "outputId": "2ab1f847-f548-4a65-e4b4-769d50ed9709"
      },
      "cell_type": "code",
      "source": [
        "number = 0\n",
        "while(number != 10):\n",
        "  print(number)\n",
        "  number = number + 1"
      ],
      "execution_count": 32,
      "outputs": [
        {
          "output_type": "stream",
          "text": [
            "0\n",
            "1\n",
            "2\n",
            "3\n",
            "4\n",
            "5\n",
            "6\n",
            "7\n",
            "8\n",
            "9\n"
          ],
          "name": "stdout"
        }
      ]
    },
    {
      "metadata": {
        "id": "1ROG9Rm8JDRs",
        "colab_type": "text"
      },
      "cell_type": "markdown",
      "source": [
        "### Pattern Printing Using For Loop"
      ]
    },
    {
      "metadata": {
        "id": "yk4UJsVLI9sr",
        "colab_type": "code",
        "colab": {
          "base_uri": "https://localhost:8080/",
          "height": 170
        },
        "outputId": "f11e3c06-a5cc-4a20-e295-427173c1caad"
      },
      "cell_type": "code",
      "source": [
        "for i in range(1,10):\n",
        "  for j in range(1,i):\n",
        "    print(j,end=\" \")\n",
        "  print()"
      ],
      "execution_count": 37,
      "outputs": [
        {
          "output_type": "stream",
          "text": [
            "\n",
            "1 \n",
            "1 2 \n",
            "1 2 3 \n",
            "1 2 3 4 \n",
            "1 2 3 4 5 \n",
            "1 2 3 4 5 6 \n",
            "1 2 3 4 5 6 7 \n",
            "1 2 3 4 5 6 7 8 \n"
          ],
          "name": "stdout"
        }
      ]
    },
    {
      "metadata": {
        "id": "k8rudnscJMED",
        "colab_type": "code",
        "colab": {
          "base_uri": "https://localhost:8080/",
          "height": 170
        },
        "outputId": "7627c53c-8065-4cb2-99c1-c766da134e68"
      },
      "cell_type": "code",
      "source": [
        "for i in range(1,10):\n",
        "  for j in range(1,i):\n",
        "    print(\"*\",end=\" \")\n",
        "  print()"
      ],
      "execution_count": 38,
      "outputs": [
        {
          "output_type": "stream",
          "text": [
            "\n",
            "* \n",
            "* * \n",
            "* * * \n",
            "* * * * \n",
            "* * * * * \n",
            "* * * * * * \n",
            "* * * * * * * \n",
            "* * * * * * * * \n"
          ],
          "name": "stdout"
        }
      ]
    },
    {
      "metadata": {
        "id": "7JE_tv7uKfYl",
        "colab_type": "text"
      },
      "cell_type": "markdown",
      "source": [
        "## Python Common Data Structures"
      ]
    },
    {
      "metadata": {
        "id": "bfOf4oHaKqch",
        "colab_type": "text"
      },
      "cell_type": "markdown",
      "source": [
        "List​\n",
        "\n",
        "Tuples​\n",
        "\n",
        "Sets​\n",
        "\n",
        "Dictionary​"
      ]
    },
    {
      "metadata": {
        "id": "da2jn9m6JaJ4",
        "colab_type": "code",
        "colab": {
          "base_uri": "https://localhost:8080/",
          "height": 34
        },
        "outputId": "bcc1d0d6-a813-4db3-bdcd-34a27c8ff6ed"
      },
      "cell_type": "code",
      "source": [
        "# list \n",
        "List = [1,2,3,4]\n",
        "print(List)"
      ],
      "execution_count": 39,
      "outputs": [
        {
          "output_type": "stream",
          "text": [
            "[1, 2, 3, 4]\n"
          ],
          "name": "stdout"
        }
      ]
    },
    {
      "metadata": {
        "id": "b49eyl_tKzSt",
        "colab_type": "code",
        "colab": {
          "base_uri": "https://localhost:8080/",
          "height": 34
        },
        "outputId": "3ffaed9e-fa9e-467f-d5c4-df107b8d054c"
      },
      "cell_type": "code",
      "source": [
        "tuples = (1,2,3,4)\n",
        "print(tuples)"
      ],
      "execution_count": 40,
      "outputs": [
        {
          "output_type": "stream",
          "text": [
            "(1, 2, 3, 4)\n"
          ],
          "name": "stdout"
        }
      ]
    },
    {
      "metadata": {
        "id": "iHs8vs8IK58_",
        "colab_type": "code",
        "colab": {
          "base_uri": "https://localhost:8080/",
          "height": 34
        },
        "outputId": "59ae26c0-bc82-4369-d4f6-fddcf7899d50"
      },
      "cell_type": "code",
      "source": [
        "sets = {1,2,1,2}\n",
        "print(sets)"
      ],
      "execution_count": 41,
      "outputs": [
        {
          "output_type": "stream",
          "text": [
            "{1, 2}\n"
          ],
          "name": "stdout"
        }
      ]
    },
    {
      "metadata": {
        "id": "22AkpvVSK916",
        "colab_type": "code",
        "colab": {
          "base_uri": "https://localhost:8080/",
          "height": 68
        },
        "outputId": "25228635-cee9-4aa8-c86f-e005143e1595"
      },
      "cell_type": "code",
      "source": [
        "dictionary = {\"Name\":\"Vikram\",\"age\":10}\n",
        "print(dictionary)\n",
        "print(dictionary.get('Name'))\n",
        "print(dictionary.get('age'))"
      ],
      "execution_count": 46,
      "outputs": [
        {
          "output_type": "stream",
          "text": [
            "{'Name': 'Vikram', 'age': 10}\n",
            "Vikram\n",
            "10\n"
          ],
          "name": "stdout"
        }
      ]
    },
    {
      "metadata": {
        "id": "PtAEWI39NXrO",
        "colab_type": "text"
      },
      "cell_type": "markdown",
      "source": [
        "## Functions In Python"
      ]
    },
    {
      "metadata": {
        "id": "cDVjzq9eLD7G",
        "colab_type": "code",
        "colab": {
          "base_uri": "https://localhost:8080/",
          "height": 34
        },
        "outputId": "98a2186f-f612-4203-ad2c-c707bcb345c6"
      },
      "cell_type": "code",
      "source": [
        "def firstFunction():\n",
        "  print(\"Hello I am Function\")\n",
        "  \n",
        "firstFunction()"
      ],
      "execution_count": 47,
      "outputs": [
        {
          "output_type": "stream",
          "text": [
            "Hello I am Function\n"
          ],
          "name": "stdout"
        }
      ]
    },
    {
      "metadata": {
        "id": "7eRr5EeDNe6z",
        "colab_type": "code",
        "colab": {
          "base_uri": "https://localhost:8080/",
          "height": 34
        },
        "outputId": "f63e160f-a49f-43d6-97c4-be3b5e2f57c4"
      },
      "cell_type": "code",
      "source": [
        "def secondFunction(name):\n",
        "  print(\"Hello\",name)\n",
        "  \n",
        "secondFunction(\"Vikram\")"
      ],
      "execution_count": 48,
      "outputs": [
        {
          "output_type": "stream",
          "text": [
            "Hello Vikram\n"
          ],
          "name": "stdout"
        }
      ]
    },
    {
      "metadata": {
        "id": "qnORNLn6OKkr",
        "colab_type": "text"
      },
      "cell_type": "markdown",
      "source": [
        "## Exercise :- Make A Simple Calculator"
      ]
    },
    {
      "metadata": {
        "id": "dTnHgE-xNn_J",
        "colab_type": "code",
        "colab": {
          "base_uri": "https://localhost:8080/",
          "height": 170
        },
        "outputId": "745ecf0e-aa84-49c6-957f-665d3c07da7e"
      },
      "cell_type": "code",
      "source": [
        "def add(x, y):\n",
        "   return x + y\n",
        "\n",
        "# This function subtracts two numbers \n",
        "def subtract(x, y):\n",
        "   return x - y\n",
        "\n",
        "# This function multiplies two numbers\n",
        "def multiply(x, y):\n",
        "   return x * y\n",
        "\n",
        "# This function divides two numbers\n",
        "def divide(x, y):\n",
        "   return x / y\n",
        "\n",
        "print(\"Select operation.\")\n",
        "print(\"1.Add\")\n",
        "print(\"2.Subtract\")\n",
        "print(\"3.Multiply\")\n",
        "print(\"4.Divide\")\n",
        "\n",
        "# Take input from the user \n",
        "choice = input(\"Enter choice(1/2/3/4):\")\n",
        "\n",
        "num1 = int(input(\"Enter first number: \"))\n",
        "num2 = int(input(\"Enter second number: \"))\n",
        "\n",
        "if choice == '1':\n",
        "   print(num1,\"+\",num2,\"=\", add(num1,num2))\n",
        "\n",
        "elif choice == '2':\n",
        "   print(num1,\"-\",num2,\"=\", subtract(num1,num2))\n",
        "\n",
        "elif choice == '3':\n",
        "   print(num1,\"*\",num2,\"=\", multiply(num1,num2))\n",
        "\n",
        "elif choice == '4':\n",
        "   print(num1,\"/\",num2,\"=\", divide(num1,num2))\n",
        "else:\n",
        "   print(\"Invalid input\")"
      ],
      "execution_count": 49,
      "outputs": [
        {
          "output_type": "stream",
          "text": [
            "Select operation.\n",
            "1.Add\n",
            "2.Subtract\n",
            "3.Multiply\n",
            "4.Divide\n",
            "Enter choice(1/2/3/4):1\n",
            "Enter first number: 5\n",
            "Enter second number: 10\n",
            "5 + 10 = 15\n"
          ],
          "name": "stdout"
        }
      ]
    },
    {
      "metadata": {
        "id": "beMstUWzON0q",
        "colab_type": "code",
        "colab": {}
      },
      "cell_type": "code",
      "source": [
        ""
      ],
      "execution_count": 0,
      "outputs": []
    }
  ]
}