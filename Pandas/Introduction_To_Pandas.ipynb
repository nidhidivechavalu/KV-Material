{
  "nbformat": 4,
  "nbformat_minor": 0,
  "metadata": {
    "colab": {
      "name": "Introduction To Pandas.ipynb",
      "version": "0.3.2",
      "provenance": []
    },
    "kernelspec": {
      "name": "python3",
      "display_name": "Python 3"
    }
  },
  "cells": [
    {
      "metadata": {
        "id": "1QlLFCzBOJRa",
        "colab_type": "text"
      },
      "cell_type": "markdown",
      "source": [
        "# What is Pandas in Python?\n",
        "![alt text](https://d2h0cx97tjks2p.cloudfront.net/blogs/wp-content/uploads/sites/2/2018/07/pandas-5.png)"
      ]
    },
    {
      "metadata": {
        "id": "NTOshDFKQnGe",
        "colab_type": "code",
        "colab": {}
      },
      "cell_type": "code",
      "source": [
        "# Importing Library\n",
        "import pandas as pd\n"
      ],
      "execution_count": 0,
      "outputs": []
    },
    {
      "metadata": {
        "id": "FDrNLzpz_Vr5",
        "colab_type": "code",
        "colab": {
          "resources": {
            "http://localhost:8080/nbextensions/google.colab/files.js": {
              "data": "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",
              "ok": true,
              "headers": [
                [
                  "content-type",
                  "application/javascript"
                ]
              ],
              "status": 200,
              "status_text": ""
            }
          },
          "base_uri": "https://localhost:8080/",
          "height": 111
        },
        "outputId": "3f8743ff-2f84-4a34-9a0b-54bfe310a268"
      },
      "cell_type": "code",
      "source": [
        "from google.colab import files\n",
        "files.upload()"
      ],
      "execution_count": 5,
      "outputs": [
        {
          "output_type": "display_data",
          "data": {
            "text/html": [
              "\n",
              "     <input type=\"file\" id=\"files-7beb16b0-7df7-4da6-9053-fd0e6efe280e\" name=\"files[]\" multiple disabled />\n",
              "     <output id=\"result-7beb16b0-7df7-4da6-9053-fd0e6efe280e\">\n",
              "      Upload widget is only available when the cell has been executed in the\n",
              "      current browser session. Please rerun this cell to enable.\n",
              "      </output>\n",
              "      <script src=\"/nbextensions/google.colab/files.js\"></script> "
            ],
            "text/plain": [
              "<IPython.core.display.HTML object>"
            ]
          },
          "metadata": {
            "tags": []
          }
        },
        {
          "output_type": "stream",
          "text": [
            "Saving employee_data.csv to employee_data.csv\n"
          ],
          "name": "stdout"
        },
        {
          "output_type": "execute_result",
          "data": {
            "text/plain": [
              "{'employee_data.csv': b',id,groups,age,healthy_eating,active_lifestyle,salary\\r\\n0,0,A,36,5,5,2297\\r\\n1,1,A,55,3,5,1134\\r\\n2,2,A,61,8,1,4969\\r\\n3,3,O,29,3,6,902\\r\\n4,4,O,34,6,2,3574\\r\\n5,5,O,42,5,3,2761\\r\\n6,6,AB,53,4,6,1484\\r\\n7,7,B,41,8,6,3809\\r\\n8,8,A,47,5,6,2065\\r\\n9,9,A,31,4,8,1020\\r\\n10,10,A,47,6,9,1950\\r\\n11,11,O,40,7,1,4387\\r\\n12,12,O,41,3,2,1830\\r\\n13,13,O,46,6,8,2182\\r\\n14,14,AB,51,7,5,3460\\r\\n15,15,B,57,3,8,662\\r\\n16,16,A,33,3,5,1134\\r\\n17,17,A,41,4,8,1020\\r\\n18,18,A,46,2,6,779\\r\\n19,19,O,32,7,6,3228\\r\\n20,20,O,57,7,6,3228\\r\\n21,21,O,26,1,6,1360\\r\\n22,22,AB,59,7,5,3460\\r\\n23,23,B,55,6,4,3110\\r\\n24,24,A,51,5,8,1601\\r\\n25,25,A,63,6,7,2414\\r\\n26,26,A,62,9,6,4390\\r\\n27,27,O,37,3,5,1134\\r\\n28,28,O,63,6,7,2414\\r\\n29,29,O,20,8,6,3809\\r\\n30,30,AB,63,4,7,1252\\r\\n31,31,B,54,7,8,2764\\r\\n32,32,A,58,3,8,662\\r\\n33,33,A,18,4,6,1484\\r\\n34,34,A,29,5,7,1833\\r\\n35,35,O,61,2,4,785\\r\\n36,36,O,51,5,5,2297\\r\\n37,37,O,22,3,5,1134\\r\\n38,38,AB,36,3,7,670\\r\\n39,39,B,62,2,6,779\\r\\n40,40,A,54,6,8,2182\\r\\n41,41,A,55,5,3,2761\\r\\n42,42,A,55,6,7,2414\\r\\n43,43,O,42,4,10,556\\r\\n44,44,O,41,6,6,2646\\r\\n45,45,O,43,5,8,1601\\r\\n46,46,AB,24,4,3,2179\\r\\n47,47,B,44,4,6,1484\\r\\n48,48,A,42,5,6,2065\\r\\n49,49,A,54,6,9,1950\\r\\n50,50,A,34,3,6,902\\r\\n51,51,O,32,5,8,1601\\r\\n52,52,O,28,7,2,4155\\r\\n53,53,O,18,2,4,785\\r\\n54,54,AB,64,3,7,670\\r\\n55,55,B,44,6,5,2878\\r\\n56,56,A,56,5,5,2297\\r\\n57,57,A,54,6,1,3806\\r\\n58,58,A,23,9,6,4390\\r\\n59,59,O,42,8,3,4505\\r\\n60,60,O,64,7,10,2300\\r\\n61,61,O,57,3,5,1134\\r\\n62,62,AB,20,5,5,2297\\r\\n63,63,B,37,5,3,2761\\r\\n64,64,A,45,7,4,3691\\r\\n65,65,A,45,6,6,2646\\r\\n66,66,A,27,3,4,1366\\r\\n67,67,O,43,6,3,3342\\r\\n68,68,O,20,5,7,1833\\r\\n69,69,O,28,8,5,4041\\r\\n70,70,AB,60,3,2,1830\\r\\n71,71,B,34,4,4,1948\\r\\n72,72,A,21,5,1,3225\\r\\n73,73,A,50,5,7,1833\\r\\n74,74,A,31,6,7,2414\\r\\n75,75,O,26,8,6,3809\\r\\n76,76,O,59,4,5,1716\\r\\n77,77,O,21,7,7,2996\\r\\n78,78,AB,61,6,8,2182\\r\\n79,79,B,47,6,8,2182\\r\\n80,80,A,30,3,2,1830\\r\\n81,81,A,19,5,2,2993\\r\\n82,82,A,56,6,6,2646\\r\\n83,83,O,49,9,6,4390\\r\\n84,84,O,39,3,4,1366\\r\\n85,85,O,64,7,6,3228\\r\\n86,86,AB,53,6,5,2878\\r\\n87,87,B,28,6,6,2646\\r\\n88,88,A,62,5,7,1833\\r\\n89,89,A,57,3,7,670\\r\\n90,90,A,55,1,9,2056\\r\\n91,91,O,25,4,6,1484\\r\\n92,92,O,31,8,1,4969\\r\\n93,93,O,34,7,6,3228\\r\\n94,94,AB,47,5,8,1601\\r\\n95,95,B,40,3,3,1598\\r\\n96,96,A,32,8,1,4969\\r\\n97,97,A,32,6,6,2646\\r\\n98,98,A,56,6,8,2182\\r\\n99,99,O,19,4,6,1484\\r\\n100,100,O,45,4,6,1484\\r\\n101,101,O,60,5,7,1833\\r\\n102,102,AB,37,4,6,1484\\r\\n103,103,B,36,3,8,662\\r\\n104,104,A,59,6,7,2414\\r\\n105,105,A,48,9,5,4622\\r\\n106,106,A,56,6,5,2878\\r\\n107,107,O,52,6,9,1950\\r\\n108,108,O,25,6,5,2878\\r\\n109,109,O,51,3,5,1134\\r\\n110,110,AB,30,4,7,1252\\r\\n111,111,B,46,5,5,2297\\r\\n112,112,A,45,6,8,2182\\r\\n113,113,A,44,3,3,1598\\r\\n114,114,A,49,7,6,3228\\r\\n115,115,O,50,2,7,1011\\r\\n116,116,O,26,5,3,2761\\r\\n117,117,O,30,3,6,902\\r\\n118,118,AB,21,4,8,1020\\r\\n119,119,B,48,8,9,3113\\r\\n120,120,A,37,6,5,2878\\r\\n121,121,A,28,7,6,3228\\r\\n122,122,A,29,5,1,3225\\r\\n123,123,O,28,5,4,2529\\r\\n124,124,O,64,3,9,894\\r\\n125,125,O,44,4,8,1020\\r\\n126,126,AB,63,3,7,670\\r\\n127,127,B,37,9,7,4158\\r\\n128,128,A,18,3,3,1598\\r\\n129,129,A,60,6,5,2878\\r\\n130,130,A,22,6,8,2182\\r\\n131,131,O,62,6,7,2414\\r\\n132,132,O,58,1,5,1128\\r\\n133,133,O,41,0,8,2406\\r\\n134,134,AB,19,6,5,2878\\r\\n135,135,B,21,2,3,1017\\r\\n136,136,A,43,5,4,2529\\r\\n137,137,A,53,4,10,556\\r\\n138,138,A,43,2,9,1475\\r\\n139,139,O,32,6,8,2182\\r\\n140,140,O,43,4,2,2411\\r\\n141,141,O,26,7,7,2996\\r\\n142,142,AB,38,6,5,2878\\r\\n143,143,B,62,1,2,667\\r\\n144,144,A,33,4,5,1716\\r\\n145,145,A,29,6,4,3110\\r\\n146,146,A,46,7,4,3691\\r\\n147,147,O,39,6,3,3342\\r\\n148,148,O,44,5,6,2065\\r\\n149,149,O,41,6,6,2646\\r\\n150,150,AB,49,5,4,2529\\r\\n151,151,B,58,1,6,1360\\r\\n152,152,A,55,7,3,3923\\r\\n153,153,A,54,6,5,2878\\r\\n154,154,A,51,4,7,1252\\r\\n155,155,O,34,6,9,1950\\r\\n156,156,O,19,5,6,2065\\r\\n157,157,O,51,7,5,3460\\r\\n158,158,AB,44,6,9,1950\\r\\n159,159,B,30,7,6,3228\\r\\n160,160,A,32,4,5,1716\\r\\n161,161,A,52,2,6,779\\r\\n162,162,A,33,7,6,3228\\r\\n163,163,O,25,7,6,3228\\r\\n164,164,O,36,3,9,894\\r\\n165,165,O,27,7,3,3923\\r\\n166,166,AB,59,6,8,2182\\r\\n167,167,B,38,3,8,662\\r\\n168,168,A,54,8,5,4041\\r\\n169,169,A,58,5,5,2297\\r\\n170,170,A,63,5,2,2993\\r\\n171,171,O,50,3,6,902\\r\\n172,172,O,32,2,6,779\\r\\n173,173,O,58,9,5,4622\\r\\n174,174,AB,21,3,6,902\\r\\n175,175,B,39,3,6,902\\r\\n176,176,A,21,6,6,2646\\r\\n177,177,A,31,2,9,1475\\r\\n178,178,A,44,3,6,902\\r\\n179,179,O,49,7,9,2532\\r\\n180,180,O,35,3,6,902\\r\\n181,181,O,30,7,8,2764\\r\\n182,182,AB,49,8,5,4041\\r\\n183,183,B,61,4,7,1252\\r\\n184,184,A,31,5,6,2065\\r\\n185,185,A,38,8,5,4041\\r\\n186,186,A,22,5,5,2297\\r\\n187,187,O,23,3,8,662\\r\\n188,188,O,48,8,6,3809\\r\\n189,189,O,34,4,6,1484\\r\\n190,190,AB,33,6,8,2182\\r\\n191,191,B,43,7,5,3460\\r\\n192,192,A,43,3,6,902\\r\\n193,193,A,36,4,5,1716\\r\\n194,194,A,34,4,5,1716\\r\\n195,195,O,56,5,7,1833\\r\\n196,196,O,18,3,4,1366\\r\\n197,197,O,51,8,6,3809\\r\\n198,198,AB,34,3,6,902\\r\\n199,199,B,50,4,3,2179\\r\\n200,200,A,18,4,5,1716\\r\\n201,201,A,44,7,8,2764\\r\\n202,202,A,46,5,3,2761\\r\\n203,203,O,35,10,8,4508\\r\\n204,204,O,55,7,8,2764\\r\\n205,205,O,31,3,6,902\\r\\n206,206,AB,20,6,2,3574\\r\\n207,207,B,58,9,6,4390\\r\\n208,208,A,23,9,3,5086\\r\\n209,209,A,37,6,7,2414\\r\\n210,210,A,39,4,6,1484\\r\\n211,211,O,22,8,8,3345\\r\\n212,212,O,22,9,2,5318\\r\\n213,213,O,50,6,6,2646\\r\\n214,214,AB,25,3,1,2062\\r\\n215,215,B,61,9,9,3694\\r\\n216,216,A,18,4,8,1020\\r\\n217,217,A,53,4,8,1020\\r\\n218,218,A,37,0,4,1478\\r\\n219,219,O,38,5,8,1601\\r\\n220,220,O,50,4,4,1948\\r\\n221,221,O,59,5,2,2993\\r\\n222,222,AB,23,3,4,1366\\r\\n223,223,B,32,7,6,3228\\r\\n224,224,A,40,8,9,3113\\r\\n225,225,A,47,4,5,1716\\r\\n226,226,A,26,3,6,902\\r\\n227,227,O,24,5,3,2761\\r\\n228,228,O,54,7,6,3228\\r\\n229,229,O,41,6,7,2414\\r\\n230,230,AB,58,2,7,1011\\r\\n231,231,B,50,7,7,2996\\r\\n232,232,A,29,3,7,670\\r\\n233,233,A,55,3,4,1366\\r\\n234,234,A,64,5,5,2297\\r\\n235,235,O,23,4,5,1716\\r\\n236,236,O,55,5,6,2065\\r\\n237,237,O,49,4,4,1948\\r\\n238,238,AB,40,2,9,1475\\r\\n239,239,B,50,7,6,3228\\r\\n240,240,A,63,1,8,1824\\r\\n241,241,A,43,3,3,1598\\r\\n242,242,A,48,4,1,2643\\r\\n243,243,O,30,3,3,1598\\r\\n244,244,O,63,4,9,788\\r\\n245,245,O,64,6,6,2646\\r\\n246,246,AB,59,1,2,667\\r\\n247,247,B,33,3,3,1598\\r\\n248,248,A,62,4,3,2179\\r\\n249,249,A,60,3,7,670\\r\\n250,250,A,60,5,3,2761\\r\\n251,251,O,35,8,6,3809\\r\\n252,252,O,24,5,3,2761\\r\\n253,253,O,29,4,6,1484\\r\\n254,254,AB,18,4,5,1716\\r\\n255,255,B,25,7,3,3923\\r\\n256,256,A,57,4,5,1716\\r\\n257,257,A,28,6,2,3574\\r\\n258,258,A,44,6,2,3574\\r\\n259,259,O,53,6,6,2646\\r\\n260,260,O,63,6,8,2182\\r\\n261,261,O,44,4,5,1716\\r\\n262,262,AB,58,5,9,1369\\r\\n263,263,B,20,3,9,894\\r\\n264,264,A,24,3,1,2062\\r\\n265,265,A,25,5,6,2065\\r\\n266,266,A,46,8,6,3809\\r\\n267,267,O,57,4,3,2179\\r\\n268,268,O,57,4,7,1252\\r\\n269,269,O,36,7,3,3923\\r\\n270,270,AB,51,10,4,5435\\r\\n271,271,B,59,3,4,1366\\r\\n272,272,A,21,6,6,2646\\r\\n273,273,A,41,9,4,4854\\r\\n274,274,A,33,9,3,5086\\r\\n275,275,O,57,7,6,3228\\r\\n276,276,O,47,3,6,902\\r\\n277,277,O,41,5,7,1833\\r\\n278,278,AB,58,5,9,1369\\r\\n279,279,B,50,4,9,788\\r\\n280,280,A,54,6,4,3110\\r\\n281,281,A,52,5,6,2065\\r\\n282,282,A,54,6,2,3574\\r\\n283,283,O,35,7,3,3923\\r\\n284,284,O,18,2,4,785\\r\\n285,285,O,45,6,8,2182\\r\\n286,286,AB,58,6,7,2414\\r\\n287,287,B,25,4,1,2643\\r\\n288,288,A,19,5,5,2297\\r\\n289,289,A,27,4,4,1948\\r\\n290,290,A,43,6,6,2646\\r\\n291,291,O,23,6,4,3110\\r\\n292,292,O,39,4,7,1252\\r\\n293,293,O,41,9,6,4390\\r\\n294,294,AB,37,8,5,4041\\r\\n295,295,B,52,2,10,1707\\r\\n296,296,A,52,4,4,1948\\r\\n297,297,A,44,4,1,2643\\r\\n298,298,A,33,1,9,2056\\r\\n299,299,O,43,4,8,1020\\r\\n300,300,O,19,5,4,2529\\r\\n301,301,O,21,5,4,2529\\r\\n302,302,AB,37,4,5,1716\\r\\n303,303,B,46,3,7,670\\r\\n304,304,A,50,4,7,1252\\r\\n305,305,A,37,3,6,902\\r\\n306,306,A,30,5,8,1601\\r\\n307,307,O,37,4,5,1716\\r\\n308,308,O,49,6,4,3110\\r\\n309,309,O,19,6,7,2414\\r\\n310,310,AB,42,9,7,4158\\r\\n311,311,B,62,3,10,1126\\r\\n312,312,A,42,8,3,4505\\r\\n313,313,A,21,5,9,1369\\r\\n314,314,A,25,1,4,896\\r\\n315,315,O,33,3,3,1598\\r\\n316,316,O,20,4,3,2179\\r\\n317,317,O,59,7,7,2996\\r\\n318,318,AB,62,4,8,1020\\r\\n319,319,B,22,5,3,2761\\r\\n320,320,A,40,8,9,3113\\r\\n321,321,A,50,7,6,3228\\r\\n322,322,A,62,3,8,662\\r\\n323,323,O,33,5,9,1369\\r\\n324,324,O,23,8,8,3345\\r\\n325,325,O,51,5,7,1833\\r\\n326,326,AB,36,5,9,1369\\r\\n327,327,B,61,4,5,1716\\r\\n328,328,A,60,4,7,1252\\r\\n329,329,A,56,2,7,1011\\r\\n330,330,A,58,6,6,2646\\r\\n331,331,O,20,0,5,1710\\r\\n332,332,O,60,6,4,3110\\r\\n333,333,O,46,4,7,1252\\r\\n334,334,AB,55,4,7,1252\\r\\n335,335,B,61,9,5,4622\\r\\n336,336,A,28,6,5,2878\\r\\n337,337,A,44,8,4,4273\\r\\n338,338,A,54,5,7,1833\\r\\n339,339,O,35,10,9,4276\\r\\n340,340,O,62,0,5,1710\\r\\n341,341,O,28,7,4,3691\\r\\n342,342,AB,42,4,7,1252\\r\\n343,343,B,53,2,5,553\\r\\n344,344,A,25,5,7,1833\\r\\n345,345,A,57,5,3,2761\\r\\n346,346,A,60,5,8,1601\\r\\n347,347,O,34,3,5,1134\\r\\n348,348,O,19,5,6,2065\\r\\n349,349,O,49,7,5,3460\\r\\n350,350,AB,35,5,6,2065\\r\\n351,351,B,55,5,0,3457\\r\\n352,352,A,63,3,5,1134\\r\\n353,353,A,46,7,7,2996\\r\\n354,354,A,55,5,6,2065\\r\\n355,355,O,29,3,5,1134\\r\\n356,356,O,28,4,4,1948\\r\\n357,357,O,46,1,7,1592\\r\\n358,358,AB,58,7,6,3228\\r\\n359,359,B,28,3,6,902\\r\\n360,360,A,31,4,7,1252\\r\\n361,361,A,56,5,3,2761\\r\\n362,362,A,43,5,10,1137\\r\\n363,363,O,26,4,3,2179\\r\\n364,364,O,46,1,4,896\\r\\n365,365,O,41,5,7,1833\\r\\n366,366,AB,50,5,7,1833\\r\\n367,367,B,58,4,3,2179\\r\\n368,368,A,56,5,5,2297\\r\\n369,369,A,49,7,6,3228\\r\\n370,370,A,20,8,6,3809\\r\\n371,371,O,31,2,4,785\\r\\n372,372,O,61,5,10,1137\\r\\n373,373,O,54,6,5,2878\\r\\n374,374,AB,23,7,8,2764\\r\\n375,375,B,53,5,7,1833\\r\\n376,376,A,62,3,6,902\\r\\n377,377,A,47,3,8,662\\r\\n378,378,A,43,2,3,1017\\r\\n379,379,O,30,4,5,1716\\r\\n380,380,O,36,7,3,3923\\r\\n381,381,O,48,6,5,2878\\r\\n382,382,AB,61,6,7,2414\\r\\n383,383,B,45,3,9,894\\r\\n384,384,A,33,4,7,1252\\r\\n385,385,A,31,5,7,1833\\r\\n386,386,A,20,3,5,1134\\r\\n387,387,O,55,5,5,2297\\r\\n388,388,O,24,6,5,2878\\r\\n389,389,O,46,6,5,2878\\r\\n390,390,AB,52,7,1,4387\\r\\n391,391,B,56,3,7,670\\r\\n392,392,A,62,4,7,1252\\r\\n393,393,A,58,2,6,779\\r\\n394,394,A,42,6,7,2414\\r\\n395,395,O,53,7,3,3923\\r\\n396,396,O,18,8,9,3113\\r\\n397,397,O,62,8,7,3577\\r\\n398,398,AB,38,6,4,3110\\r\\n399,399,B,60,3,5,1134\\r\\n400,400,A,49,7,8,2764\\r\\n401,401,A,18,5,8,1601\\r\\n402,402,A,28,6,5,2878\\r\\n403,403,O,22,6,7,2414\\r\\n404,404,O,27,7,5,3460\\r\\n405,405,O,42,3,5,1134\\r\\n406,406,AB,31,6,5,2878\\r\\n407,407,B,19,6,2,3574\\r\\n408,408,A,25,2,5,553\\r\\n409,409,A,18,4,8,1020\\r\\n410,410,A,34,3,3,1598\\r\\n411,411,O,44,6,8,2182\\r\\n412,412,O,42,7,3,3923\\r\\n413,413,O,46,6,8,2182\\r\\n414,414,AB,35,5,8,1601\\r\\n415,415,B,53,1,10,2288\\r\\n416,416,A,30,2,5,553\\r\\n417,417,A,60,4,3,2179\\r\\n418,418,A,22,3,3,1598\\r\\n419,419,O,58,6,9,1950\\r\\n420,420,O,47,5,4,2529\\r\\n421,421,O,33,3,6,902\\r\\n422,422,AB,64,4,7,1252\\r\\n423,423,B,47,2,5,553\\r\\n424,424,A,56,3,0,2294\\r\\n425,425,A,30,3,6,902\\r\\n426,426,A,43,8,8,3345\\r\\n427,427,O,32,7,4,3691\\r\\n428,428,O,31,5,6,2065\\r\\n429,429,O,48,6,7,2414\\r\\n430,430,AB,23,4,3,2179\\r\\n431,431,B,21,4,6,1484\\r\\n432,432,A,51,4,9,788\\r\\n433,433,A,18,6,4,3110\\r\\n434,434,A,34,5,4,2529\\r\\n435,435,O,41,7,5,3460\\r\\n436,436,O,24,3,6,902\\r\\n437,437,O,51,6,7,2414\\r\\n438,438,AB,56,4,5,1716\\r\\n439,439,B,56,4,7,1252\\r\\n440,440,A,46,3,5,1134\\r\\n441,441,A,24,2,2,1249\\r\\n442,442,A,63,5,2,2993\\r\\n443,443,O,64,6,8,2182\\r\\n444,444,O,45,1,8,1824\\r\\n445,445,O,57,4,5,1716\\r\\n446,446,AB,36,6,7,2414\\r\\n447,447,B,54,3,4,1366\\r\\n448,448,A,61,2,5,553\\r\\n449,449,A,50,6,7,2414\\r\\n450,450,A,28,6,7,2414\\r\\n451,451,O,62,7,3,3923\\r\\n452,452,O,24,5,7,1833\\r\\n453,453,O,53,6,3,3342\\r\\n454,454,AB,30,2,3,1017\\r\\n455,455,B,29,5,8,1601\\r\\n456,456,A,18,8,9,3113\\r\\n457,457,A,58,2,1,1481\\r\\n458,458,A,55,0,4,1478\\r\\n459,459,O,32,6,3,3342\\r\\n460,460,O,60,5,9,1369\\r\\n461,461,O,22,3,6,902\\r\\n462,462,AB,27,4,5,1716\\r\\n463,463,B,39,6,7,2414\\r\\n464,464,A,23,2,7,1011\\r\\n465,465,A,21,6,6,2646\\r\\n466,466,A,51,7,6,3228\\r\\n467,467,O,34,6,5,2878\\r\\n468,468,O,35,2,5,553\\r\\n469,469,O,54,5,5,2297\\r\\n470,470,AB,63,3,7,670\\r\\n471,471,B,39,3,5,1134\\r\\n472,472,A,19,7,6,3228\\r\\n473,473,A,59,5,7,1833\\r\\n474,474,A,38,5,5,2297\\r\\n475,475,O,18,8,6,3809\\r\\n476,476,O,49,1,7,1592\\r\\n477,477,O,26,8,6,3809\\r\\n478,478,AB,56,6,4,3110\\r\\n479,479,B,52,3,5,1134\\r\\n480,480,A,23,4,4,1948\\r\\n481,481,A,48,6,6,2646\\r\\n482,482,A,21,8,5,4041\\r\\n483,483,O,45,3,6,902\\r\\n484,484,O,32,6,2,3574\\r\\n485,485,O,19,4,3,2179\\r\\n486,486,AB,31,2,4,785\\r\\n487,487,B,58,3,1,2062\\r\\n488,488,A,35,8,8,3345\\r\\n489,489,A,34,3,4,1366\\r\\n490,490,A,24,7,1,4387\\r\\n491,491,O,54,8,6,3809\\r\\n492,492,O,44,6,9,1950\\r\\n493,493,O,59,3,6,902\\r\\n494,494,AB,61,7,4,3691\\r\\n495,495,B,33,7,7,2996\\r\\n496,496,A,47,4,2,2411\\r\\n497,497,A,50,4,7,1252\\r\\n498,498,A,35,6,8,2182\\r\\n499,499,O,62,6,8,2182\\r\\n500,500,O,38,7,3,3923\\r\\n501,501,O,45,7,6,3228\\r\\n502,502,AB,21,7,6,3228\\r\\n503,503,B,29,7,6,3228\\r\\n504,504,A,42,5,4,2529\\r\\n505,505,A,47,5,5,2297\\r\\n506,506,A,53,2,8,1243\\r\\n507,507,O,42,4,2,2411\\r\\n508,508,O,64,3,7,670\\r\\n509,509,O,29,4,1,2643\\r\\n510,510,AB,22,8,8,3345\\r\\n511,511,B,23,4,3,2179\\r\\n512,512,A,48,4,6,1484\\r\\n513,513,A,37,0,4,1478\\r\\n514,514,A,30,6,0,4038\\r\\n515,515,O,23,4,2,2411\\r\\n516,516,O,32,8,8,3345\\r\\n517,517,O,34,3,7,670\\r\\n518,518,AB,41,8,8,3345\\r\\n519,519,B,21,4,5,1716\\r\\n520,520,A,57,7,6,3228\\r\\n521,521,A,42,7,4,3691\\r\\n522,522,A,51,2,4,785\\r\\n523,523,O,43,8,7,3577\\r\\n524,524,O,47,4,5,1716\\r\\n525,525,O,33,9,6,4390\\r\\n526,526,AB,40,10,6,4972\\r\\n527,527,B,43,3,7,670\\r\\n528,528,A,62,3,6,902\\r\\n529,529,A,22,2,9,1475\\r\\n530,530,A,19,5,6,2065\\r\\n531,531,O,34,7,7,2996\\r\\n532,532,O,30,7,3,3923\\r\\n533,533,O,19,5,4,2529\\r\\n534,534,AB,63,5,10,1137\\r\\n535,535,B,24,7,4,3691\\r\\n536,536,A,48,4,7,1252\\r\\n537,537,A,53,7,5,3460\\r\\n538,538,A,53,8,7,3577\\r\\n539,539,O,58,5,3,2761\\r\\n540,540,O,55,1,5,1128\\r\\n541,541,O,50,4,8,1020\\r\\n542,542,AB,37,4,8,1020\\r\\n543,543,B,27,6,6,2646\\r\\n544,544,A,51,4,7,1252\\r\\n545,545,A,27,5,5,2297\\r\\n546,546,A,22,3,5,1134\\r\\n547,547,O,18,8,7,3577\\r\\n548,548,O,44,5,9,1369\\r\\n549,549,O,62,6,6,2646\\r\\n550,550,AB,49,4,6,1484\\r\\n551,551,B,43,5,4,2529\\r\\n552,552,A,22,6,6,2646\\r\\n553,553,A,27,3,5,1134\\r\\n554,554,A,22,3,10,1126\\r\\n555,555,O,55,4,7,1252\\r\\n556,556,O,27,3,4,1366\\r\\n557,557,O,30,5,5,2297\\r\\n558,558,AB,46,6,8,2182\\r\\n559,559,B,18,6,6,2646\\r\\n560,560,A,57,8,5,4041\\r\\n561,561,A,29,5,6,2065\\r\\n562,562,A,19,6,1,3806\\r\\n563,563,O,35,5,6,2065\\r\\n564,564,O,44,4,7,1252\\r\\n565,565,O,38,5,4,2529\\r\\n566,566,AB,37,6,10,1718\\r\\n567,567,B,39,8,6,3809\\r\\n568,568,A,47,4,5,1716\\r\\n569,569,A,42,6,2,3574\\r\\n570,570,A,52,5,5,2297\\r\\n571,571,O,28,3,3,1598\\r\\n572,572,O,33,0,7,2174\\r\\n573,573,O,20,5,5,2297\\r\\n574,574,AB,23,2,5,553\\r\\n575,575,B,21,3,3,1598\\r\\n576,576,A,33,6,5,2878\\r\\n577,577,A,28,4,6,1484\\r\\n578,578,A,18,2,3,1017\\r\\n579,579,O,54,4,9,788\\r\\n580,580,O,50,6,5,2878\\r\\n581,581,O,50,5,1,3225\\r\\n582,582,AB,48,4,8,1020\\r\\n583,583,B,34,6,5,2878\\r\\n584,584,A,37,8,7,3577\\r\\n585,585,A,27,4,8,1020\\r\\n586,586,A,22,8,10,2881\\r\\n587,587,O,51,4,9,788\\r\\n588,588,O,26,4,5,1716\\r\\n589,589,O,30,8,3,4505\\r\\n590,590,AB,45,6,5,2878\\r\\n591,591,B,58,2,6,779\\r\\n592,592,A,55,4,4,1948\\r\\n593,593,A,24,7,6,3228\\r\\n594,594,A,62,7,6,3228\\r\\n595,595,O,45,5,6,2065\\r\\n596,596,O,51,7,6,3228\\r\\n597,597,O,49,5,7,1833\\r\\n598,598,AB,64,5,6,2065\\r\\n599,599,B,55,4,4,1948\\r\\n600,600,A,20,4,6,1484\\r\\n601,601,A,20,4,6,1484\\r\\n602,602,A,31,5,6,2065\\r\\n603,603,O,23,7,6,3228\\r\\n604,604,O,31,5,6,2065\\r\\n605,605,O,28,1,5,1128\\r\\n606,606,AB,51,0,7,2174\\r\\n607,607,B,44,9,1,5550\\r\\n608,608,A,30,3,4,1366\\r\\n609,609,A,63,8,7,3577\\r\\n610,610,A,45,3,6,902\\r\\n611,611,O,43,2,5,553\\r\\n612,612,O,53,2,9,1475\\r\\n613,613,O,42,3,5,1134\\r\\n614,614,AB,62,6,0,4038\\r\\n615,615,B,54,5,8,1601\\r\\n616,616,A,46,4,7,1252\\r\\n617,617,A,25,4,7,1252\\r\\n618,618,A,62,5,9,1369\\r\\n619,619,O,30,4,8,1020\\r\\n620,620,O,32,4,5,1716\\r\\n621,621,O,30,4,6,1484\\r\\n622,622,AB,51,5,7,1833\\r\\n623,623,B,46,3,5,1134\\r\\n624,624,A,34,4,2,2411\\r\\n625,625,A,37,0,8,2406\\r\\n626,626,A,59,3,3,1598\\r\\n627,627,O,51,2,7,1011\\r\\n628,628,O,29,3,5,1134\\r\\n629,629,O,38,4,4,1948\\r\\n630,630,AB,57,4,0,2875\\r\\n631,631,B,38,7,3,3923\\r\\n632,632,A,31,4,5,1716\\r\\n633,633,A,31,7,7,2996\\r\\n634,634,A,32,8,5,4041\\r\\n635,635,O,34,2,8,1243\\r\\n636,636,O,41,7,6,3228\\r\\n637,637,O,54,8,9,3113\\r\\n638,638,AB,58,5,9,1369\\r\\n639,639,B,19,2,4,785\\r\\n640,640,A,54,0,5,1710\\r\\n641,641,A,44,4,8,1020\\r\\n642,642,A,42,6,6,2646\\r\\n643,643,O,37,6,7,2414\\r\\n644,644,O,42,2,7,1011\\r\\n645,645,O,29,6,6,2646\\r\\n646,646,AB,41,7,7,2996\\r\\n647,647,B,40,1,5,1128\\r\\n648,648,A,43,8,4,4273\\r\\n649,649,A,58,4,3,2179\\r\\n650,650,A,60,2,4,785\\r\\n651,651,O,30,0,6,1942\\r\\n652,652,O,62,7,3,3923\\r\\n653,653,O,55,3,6,902\\r\\n654,654,AB,19,4,7,1252\\r\\n655,655,B,52,4,2,2411\\r\\n656,656,A,40,6,0,4038\\r\\n657,657,A,20,2,6,779\\r\\n658,658,A,26,5,4,2529\\r\\n659,659,O,29,6,3,3342\\r\\n660,660,O,51,7,7,2996\\r\\n661,661,O,38,4,1,2643\\r\\n662,662,AB,59,9,5,4622\\r\\n663,663,B,55,4,4,1948\\r\\n664,664,A,48,6,7,2414\\r\\n665,665,A,53,2,4,785\\r\\n666,666,A,57,5,5,2297\\r\\n667,667,O,25,8,6,3809\\r\\n668,668,O,28,3,6,902\\r\\n669,669,O,62,7,8,2764\\r\\n670,670,AB,37,10,6,4972\\r\\n671,671,B,37,8,7,3577\\r\\n672,672,A,50,5,7,1833\\r\\n673,673,A,49,7,6,3228\\r\\n674,674,A,46,8,4,4273\\r\\n675,675,O,52,5,7,1833\\r\\n676,676,O,30,3,5,1134\\r\\n677,677,O,50,7,7,2996\\r\\n678,678,AB,51,5,8,1601\\r\\n679,679,B,50,5,6,2065\\r\\n680,680,A,41,5,7,1833\\r\\n681,681,A,30,5,9,1369\\r\\n682,682,A,34,2,3,1017\\r\\n683,683,O,22,4,4,1948\\r\\n684,684,O,19,5,2,2993\\r\\n685,685,O,62,3,7,670\\r\\n686,686,AB,29,4,3,2179\\r\\n687,687,B,33,6,6,2646\\r\\n688,688,A,19,6,6,2646\\r\\n689,689,A,40,7,5,3460\\r\\n690,690,A,44,3,5,1134\\r\\n691,691,O,61,4,8,1020\\r\\n692,692,O,28,3,6,902\\r\\n693,693,O,60,5,9,1369\\r\\n694,694,AB,34,4,7,1252\\r\\n695,695,B,45,6,6,2646\\r\\n696,696,A,62,5,5,2297\\r\\n697,697,A,32,6,9,1950\\r\\n698,698,A,48,3,6,902\\r\\n699,699,O,41,2,6,779\\r\\n700,700,O,29,3,4,1366\\r\\n701,701,O,64,6,5,2878\\r\\n702,702,AB,30,5,6,2065\\r\\n703,703,B,61,5,7,1833\\r\\n704,704,A,57,4,1,2643\\r\\n705,705,A,26,5,5,2297\\r\\n706,706,A,64,2,3,1017\\r\\n707,707,O,25,7,3,3923\\r\\n708,708,O,26,5,4,2529\\r\\n709,709,O,42,2,4,785\\r\\n710,710,AB,61,7,6,3228\\r\\n711,711,B,25,5,4,2529\\r\\n712,712,A,28,4,4,1948\\r\\n713,713,A,23,6,7,2414\\r\\n714,714,A,52,8,5,4041\\r\\n715,715,O,46,5,8,1601\\r\\n716,716,O,54,7,6,3228\\r\\n717,717,O,63,1,3,665\\r\\n718,718,AB,32,5,6,2065\\r\\n719,719,B,54,3,7,670\\r\\n720,720,A,50,5,8,1601\\r\\n721,721,A,62,2,5,553\\r\\n722,722,A,36,5,9,1369\\r\\n723,723,O,33,5,5,2297\\r\\n724,724,O,32,7,5,3460\\r\\n725,725,O,60,5,9,1369\\r\\n726,726,AB,26,4,1,2643\\r\\n727,727,B,54,3,7,670\\r\\n728,728,A,51,2,8,1243\\r\\n729,729,A,46,5,8,1601\\r\\n730,730,A,49,7,10,2300\\r\\n731,731,O,48,2,8,1243\\r\\n732,732,O,28,6,4,3110\\r\\n733,733,O,36,5,7,1833\\r\\n734,734,AB,33,8,8,3345\\r\\n735,735,B,37,7,7,2996\\r\\n736,736,A,28,6,3,3342\\r\\n737,737,A,22,8,4,4273\\r\\n738,738,A,24,5,9,1369\\r\\n739,739,O,27,6,6,2646\\r\\n740,740,O,20,8,5,4041\\r\\n741,741,O,40,5,6,2065\\r\\n742,742,AB,33,9,4,4854\\r\\n743,743,B,53,5,4,2529\\r\\n744,744,A,63,5,7,1833\\r\\n745,745,A,33,3,6,902\\r\\n746,746,A,38,6,6,2646\\r\\n747,747,O,28,5,3,2761\\r\\n748,748,O,52,1,6,1360\\r\\n749,749,O,56,7,8,2764\\r\\n750,750,AB,35,6,7,2414\\r\\n751,751,B,35,3,8,662\\r\\n752,752,A,48,7,7,2996\\r\\n753,753,A,41,5,7,1833\\r\\n754,754,A,21,5,5,2297\\r\\n755,755,O,39,6,5,2878\\r\\n756,756,O,47,3,7,670\\r\\n757,757,O,35,6,9,1950\\r\\n758,758,AB,41,4,9,788\\r\\n759,759,B,41,0,7,2174\\r\\n760,760,A,57,7,7,2996\\r\\n761,761,A,21,2,4,785\\r\\n762,762,A,24,5,5,2297\\r\\n763,763,O,49,6,10,1718\\r\\n764,764,O,53,4,5,1716\\r\\n765,765,O,52,7,4,3691\\r\\n766,766,AB,60,4,7,1252\\r\\n767,767,B,25,5,6,2065\\r\\n768,768,A,49,4,8,1020\\r\\n769,769,A,39,5,4,2529\\r\\n770,770,A,23,8,5,4041\\r\\n771,771,O,37,7,9,2532\\r\\n772,772,O,31,5,8,1601\\r\\n773,773,O,29,8,8,3345\\r\\n774,774,AB,61,3,6,902\\r\\n775,775,B,52,6,9,1950\\r\\n776,776,A,34,5,7,1833\\r\\n777,777,A,26,1,6,1360\\r\\n778,778,A,20,3,6,902\\r\\n779,779,O,59,4,7,1252\\r\\n780,780,O,35,7,3,3923\\r\\n781,781,O,37,6,6,2646\\r\\n782,782,AB,18,5,7,1833\\r\\n783,783,B,35,5,9,1369\\r\\n784,784,A,60,4,7,1252\\r\\n785,785,A,31,3,4,1366\\r\\n786,786,A,25,3,4,1366\\r\\n787,787,O,39,5,7,1833\\r\\n788,788,O,50,6,7,2414\\r\\n789,789,O,40,2,6,779\\r\\n790,790,AB,58,8,8,3345\\r\\n791,791,B,18,7,3,3923\\r\\n792,792,A,40,6,6,2646\\r\\n793,793,A,40,4,6,1484\\r\\n794,794,A,42,5,6,2065\\r\\n795,795,O,42,6,5,2878\\r\\n796,796,O,25,6,5,2878\\r\\n797,797,O,53,6,8,2182\\r\\n798,798,AB,40,6,7,2414\\r\\n799,799,B,62,7,3,3923\\r\\n800,800,A,35,8,4,4273\\r\\n801,801,A,62,4,6,1484\\r\\n802,802,A,38,5,6,2065\\r\\n803,803,O,50,8,8,3345\\r\\n804,804,O,51,7,5,3460\\r\\n805,805,O,28,6,6,2646\\r\\n806,806,AB,58,6,6,2646\\r\\n807,807,B,18,8,3,4505\\r\\n808,808,A,44,5,6,2065\\r\\n809,809,A,37,8,8,3345\\r\\n810,810,A,51,5,6,2065\\r\\n811,811,O,27,4,8,1020\\r\\n812,812,O,50,2,6,779\\r\\n813,813,O,62,6,4,3110\\r\\n814,814,AB,36,4,6,1484\\r\\n815,815,B,33,7,4,3691\\r\\n816,816,A,60,3,6,902\\r\\n817,817,A,35,5,6,2065\\r\\n818,818,A,45,8,8,3345\\r\\n819,819,O,61,6,7,2414\\r\\n820,820,O,60,6,7,2414\\r\\n821,821,O,46,6,3,3342\\r\\n822,822,AB,61,8,5,4041\\r\\n823,823,B,34,7,5,3460\\r\\n824,824,A,28,2,8,1243\\r\\n825,825,A,47,5,3,2761\\r\\n826,826,A,32,4,9,788\\r\\n827,827,O,27,3,4,1366\\r\\n828,828,O,28,5,9,1369\\r\\n829,829,O,51,6,6,2646\\r\\n830,830,AB,62,7,10,2300\\r\\n831,831,B,41,0,4,1478\\r\\n832,832,A,47,4,8,1020\\r\\n833,833,A,52,8,8,3345\\r\\n834,834,A,61,7,6,3228\\r\\n835,835,O,39,7,5,3460\\r\\n836,836,O,41,4,1,2643\\r\\n837,837,O,40,4,8,1020\\r\\n838,838,AB,63,4,7,1252\\r\\n839,839,B,27,5,5,2297\\r\\n840,840,A,31,6,8,2182\\r\\n841,841,A,33,6,6,2646\\r\\n842,842,A,61,4,7,1252\\r\\n843,843,O,41,5,6,2065\\r\\n844,844,O,18,1,5,1128\\r\\n845,845,O,46,3,9,894\\r\\n846,846,AB,32,3,9,894\\r\\n847,847,B,32,9,7,4158\\r\\n848,848,A,58,5,7,1833\\r\\n849,849,A,59,7,8,2764\\r\\n850,850,A,45,4,8,1020\\r\\n851,851,O,36,4,1,2643\\r\\n852,852,O,42,3,5,1134\\r\\n853,853,O,54,3,5,1134\\r\\n854,854,AB,26,8,3,4505\\r\\n855,855,B,35,9,7,4158\\r\\n856,856,A,22,6,3,3342\\r\\n857,857,A,43,3,5,1134\\r\\n858,858,A,44,3,5,1134\\r\\n859,859,O,41,3,8,662\\r\\n860,860,O,30,5,2,2993\\r\\n861,861,O,33,5,8,1601\\r\\n862,862,AB,63,6,7,2414\\r\\n863,863,B,47,6,9,1950\\r\\n864,864,A,22,5,2,2993\\r\\n865,865,A,48,4,5,1716\\r\\n866,866,A,57,6,6,2646\\r\\n867,867,O,55,5,7,1833\\r\\n868,868,O,47,3,3,1598\\r\\n869,869,O,42,5,4,2529\\r\\n870,870,AB,40,4,4,1948\\r\\n871,871,B,21,5,3,2761\\r\\n872,872,A,19,4,4,1948\\r\\n873,873,A,18,0,3,1246\\r\\n874,874,A,36,2,2,1249\\r\\n875,875,O,48,2,6,779\\r\\n876,876,O,42,6,2,3574\\r\\n877,877,O,30,3,8,662\\r\\n878,878,AB,32,1,7,1592\\r\\n879,879,B,30,6,2,3574\\r\\n880,880,A,30,10,4,5435\\r\\n881,881,A,44,6,5,2878\\r\\n882,882,A,30,2,4,785\\r\\n883,883,O,47,8,8,3345\\r\\n884,884,O,28,4,6,1484\\r\\n885,885,O,33,7,6,3228\\r\\n886,886,AB,34,7,5,3460\\r\\n887,887,B,26,2,8,1243\\r\\n888,888,A,39,3,8,662\\r\\n889,889,A,25,6,6,2646\\r\\n890,890,A,44,6,9,1950\\r\\n891,891,O,55,4,6,1484\\r\\n892,892,O,18,1,6,1360\\r\\n893,893,O,49,6,7,2414\\r\\n894,894,AB,57,4,5,1716\\r\\n895,895,B,30,9,5,4622\\r\\n896,896,A,33,5,3,2761\\r\\n897,897,A,59,5,4,2529\\r\\n898,898,A,48,1,9,2056\\r\\n899,899,O,42,7,9,2532\\r\\n900,900,O,39,6,6,2646\\r\\n901,901,O,50,7,3,3923\\r\\n902,902,AB,31,2,3,1017\\r\\n903,903,B,28,8,7,3577\\r\\n904,904,A,56,6,5,2878\\r\\n905,905,A,46,8,7,3577\\r\\n906,906,A,38,3,4,1366\\r\\n907,907,O,35,4,7,1252\\r\\n908,908,O,25,2,5,553\\r\\n909,909,O,35,3,6,902\\r\\n910,910,AB,21,2,5,553\\r\\n911,911,B,59,6,6,2646\\r\\n912,912,A,24,5,3,2761\\r\\n913,913,A,64,6,5,2878\\r\\n914,914,A,19,5,1,3225\\r\\n915,915,O,45,9,6,4390\\r\\n916,916,O,19,4,6,1484\\r\\n917,917,O,38,4,7,1252\\r\\n918,918,AB,25,9,6,4390\\r\\n919,919,B,26,4,6,1484\\r\\n920,920,A,64,5,4,2529\\r\\n921,921,A,43,3,7,670\\r\\n922,922,A,22,4,4,1948\\r\\n923,923,O,32,7,6,3228\\r\\n924,924,O,57,3,8,662\\r\\n925,925,O,57,2,7,1011\\r\\n926,926,AB,34,4,3,2179\\r\\n927,927,B,56,2,5,553\\r\\n928,928,A,44,6,6,2646\\r\\n929,929,A,26,7,8,2764\\r\\n930,930,A,58,4,6,1484\\r\\n931,931,O,39,6,5,2878\\r\\n932,932,O,25,6,6,2646\\r\\n933,933,O,59,7,4,3691\\r\\n934,934,AB,24,8,8,3345\\r\\n935,935,B,48,6,7,2414\\r\\n936,936,A,49,4,7,1252\\r\\n937,937,A,25,7,6,3228\\r\\n938,938,A,26,2,4,785\\r\\n939,939,O,54,6,7,2414\\r\\n940,940,O,24,6,7,2414\\r\\n941,941,O,54,7,4,3691\\r\\n942,942,AB,41,6,3,3342\\r\\n943,943,B,54,3,8,662\\r\\n944,944,A,46,2,8,1243\\r\\n945,945,A,56,5,7,1833\\r\\n946,946,A,18,2,6,779\\r\\n947,947,O,26,10,4,5435\\r\\n948,948,O,31,6,5,2878\\r\\n949,949,O,55,4,6,1484\\r\\n950,950,AB,45,4,9,788\\r\\n951,951,B,59,7,7,2996\\r\\n952,952,A,36,4,5,1716\\r\\n953,953,A,19,10,8,4508\\r\\n954,954,A,60,8,6,3809\\r\\n955,955,O,31,5,7,1833\\r\\n956,956,O,23,6,2,3574\\r\\n957,957,O,39,5,4,2529\\r\\n958,958,AB,55,2,7,1011\\r\\n959,959,B,29,6,0,4038\\r\\n960,960,A,57,2,6,779\\r\\n961,961,A,38,3,3,1598\\r\\n962,962,A,46,7,5,3460\\r\\n963,963,O,54,4,3,2179\\r\\n964,964,O,61,5,6,2065\\r\\n965,965,O,43,7,8,2764\\r\\n966,966,AB,32,8,5,4041\\r\\n967,967,B,62,4,7,1252\\r\\n968,968,A,39,4,6,1484\\r\\n969,969,A,45,4,7,1252\\r\\n970,970,A,36,4,8,1020\\r\\n971,971,O,33,2,8,1243\\r\\n972,972,O,56,6,3,3342\\r\\n973,973,O,47,3,6,902\\r\\n974,974,AB,64,10,5,5204\\r\\n975,975,B,43,4,6,1484\\r\\n976,976,A,20,6,4,3110\\r\\n977,977,A,59,2,6,779\\r\\n978,978,A,61,3,6,902\\r\\n979,979,O,18,7,8,2764\\r\\n980,980,O,58,5,5,2297\\r\\n981,981,O,31,5,9,1369\\r\\n982,982,AB,50,9,5,4622\\r\\n983,983,B,29,5,6,2065\\r\\n984,984,A,32,3,9,894\\r\\n985,985,A,52,4,3,2179\\r\\n986,986,A,27,6,7,2414\\r\\n987,987,O,50,5,5,2297\\r\\n988,988,O,60,4,6,1484\\r\\n989,989,O,44,3,5,1134\\r\\n990,990,AB,20,3,4,1366\\r\\n991,991,B,38,8,6,3809\\r\\n992,992,A,30,6,3,3342\\r\\n993,993,A,56,5,5,2297\\r\\n994,994,A,52,5,7,1833\\r\\n995,995,O,33,7,7,2996\\r\\n996,996,O,21,1,2,667\\r\\n997,997,O,49,9,7,4158\\r\\n998,998,AB,56,6,7,2414\\r\\n999,999,B,64,4,9,788\\r\\n'}"
            ]
          },
          "metadata": {
            "tags": []
          },
          "execution_count": 5
        }
      ]
    },
    {
      "metadata": {
        "id": "sRs56egMQ5FC",
        "colab_type": "code",
        "colab": {}
      },
      "cell_type": "code",
      "source": [
        "# Reading Dataset\n",
        "dataset = pd.read_csv(\"employee_data.csv\",sep=\",\")"
      ],
      "execution_count": 0,
      "outputs": []
    },
    {
      "metadata": {
        "id": "bJJwo5RSRYvo",
        "colab_type": "text"
      },
      "cell_type": "markdown",
      "source": [
        "## Pandas Operations"
      ]
    },
    {
      "metadata": {
        "id": "OcAQ_HvBSYWq",
        "colab_type": "text"
      },
      "cell_type": "markdown",
      "source": [
        "### Columns"
      ]
    },
    {
      "metadata": {
        "id": "y1HrSJmhRFuR",
        "colab_type": "code",
        "outputId": "52e9eb8c-251a-4859-c03d-c9a4cd080e6d",
        "colab": {
          "base_uri": "https://localhost:8080/",
          "height": 68
        }
      },
      "cell_type": "code",
      "source": [
        "dataset.columns"
      ],
      "execution_count": 7,
      "outputs": [
        {
          "output_type": "execute_result",
          "data": {
            "text/plain": [
              "Index(['Unnamed: 0', 'id', 'groups', 'age', 'healthy_eating',\n",
              "       'active_lifestyle', 'salary'],\n",
              "      dtype='object')"
            ]
          },
          "metadata": {
            "tags": []
          },
          "execution_count": 7
        }
      ]
    },
    {
      "metadata": {
        "id": "yTVhjJQQRcgq",
        "colab_type": "code",
        "outputId": "655924a2-35fe-4770-86a2-00e50d23367f",
        "colab": {
          "base_uri": "https://localhost:8080/",
          "height": 34
        }
      },
      "cell_type": "code",
      "source": [
        "dataset.columns[0:2]"
      ],
      "execution_count": 8,
      "outputs": [
        {
          "output_type": "execute_result",
          "data": {
            "text/plain": [
              "Index(['Unnamed: 0', 'id'], dtype='object')"
            ]
          },
          "metadata": {
            "tags": []
          },
          "execution_count": 8
        }
      ]
    },
    {
      "metadata": {
        "id": "E_UzsmxkR8Da",
        "colab_type": "code",
        "outputId": "4f8f2298-fa4f-42dd-dc5d-8db18131f960",
        "colab": {
          "base_uri": "https://localhost:8080/",
          "height": 34
        }
      },
      "cell_type": "code",
      "source": [
        "dataset.columns[-1]"
      ],
      "execution_count": 9,
      "outputs": [
        {
          "output_type": "execute_result",
          "data": {
            "text/plain": [
              "'salary'"
            ]
          },
          "metadata": {
            "tags": []
          },
          "execution_count": 9
        }
      ]
    },
    {
      "metadata": {
        "id": "L69HgmrxShNB",
        "colab_type": "text"
      },
      "cell_type": "markdown",
      "source": [
        "### Datatypes"
      ]
    },
    {
      "metadata": {
        "id": "O67gVZ9UR_7o",
        "colab_type": "code",
        "outputId": "a0151594-68df-45df-fee0-97d6f5e5a25e",
        "colab": {
          "base_uri": "https://localhost:8080/",
          "height": 153
        }
      },
      "cell_type": "code",
      "source": [
        "dataset.dtypes"
      ],
      "execution_count": 10,
      "outputs": [
        {
          "output_type": "execute_result",
          "data": {
            "text/plain": [
              "Unnamed: 0           int64\n",
              "id                   int64\n",
              "groups              object\n",
              "age                  int64\n",
              "healthy_eating       int64\n",
              "active_lifestyle     int64\n",
              "salary               int64\n",
              "dtype: object"
            ]
          },
          "metadata": {
            "tags": []
          },
          "execution_count": 10
        }
      ]
    },
    {
      "metadata": {
        "id": "Yr_OtiUQS1zp",
        "colab_type": "code",
        "outputId": "c8743017-3a13-4d66-f336-8b8c6667a3e8",
        "colab": {
          "base_uri": "https://localhost:8080/",
          "height": 34
        }
      },
      "cell_type": "code",
      "source": [
        "dataset['age'].dtypes"
      ],
      "execution_count": 11,
      "outputs": [
        {
          "output_type": "execute_result",
          "data": {
            "text/plain": [
              "dtype('int64')"
            ]
          },
          "metadata": {
            "tags": []
          },
          "execution_count": 11
        }
      ]
    },
    {
      "metadata": {
        "id": "u1lqHvMTSjml",
        "colab_type": "code",
        "outputId": "6b6229bc-2ec0-477a-b280-4226d1348688",
        "colab": {
          "base_uri": "https://localhost:8080/",
          "height": 34
        }
      },
      "cell_type": "code",
      "source": [
        "dataset['groups'].dtypes"
      ],
      "execution_count": 12,
      "outputs": [
        {
          "output_type": "execute_result",
          "data": {
            "text/plain": [
              "dtype('O')"
            ]
          },
          "metadata": {
            "tags": []
          },
          "execution_count": 12
        }
      ]
    },
    {
      "metadata": {
        "id": "7kSuz-jxTAcF",
        "colab_type": "text"
      },
      "cell_type": "markdown",
      "source": [
        "### Shape"
      ]
    },
    {
      "metadata": {
        "id": "B_UnWrzvS-xZ",
        "colab_type": "code",
        "outputId": "a7779af2-a6db-4270-f78e-5669dc3ed223",
        "colab": {
          "base_uri": "https://localhost:8080/",
          "height": 34
        }
      },
      "cell_type": "code",
      "source": [
        "dataset.shape"
      ],
      "execution_count": 13,
      "outputs": [
        {
          "output_type": "execute_result",
          "data": {
            "text/plain": [
              "(1000, 7)"
            ]
          },
          "metadata": {
            "tags": []
          },
          "execution_count": 13
        }
      ]
    },
    {
      "metadata": {
        "id": "lIt0pyZ3Sr8A",
        "colab_type": "code",
        "outputId": "4803d3d4-acb3-4e0a-9a95-682a50685b1b",
        "colab": {
          "base_uri": "https://localhost:8080/",
          "height": 34
        }
      },
      "cell_type": "code",
      "source": [
        "# Number Of Rows\n",
        "dataset.shape[0]"
      ],
      "execution_count": 14,
      "outputs": [
        {
          "output_type": "execute_result",
          "data": {
            "text/plain": [
              "1000"
            ]
          },
          "metadata": {
            "tags": []
          },
          "execution_count": 14
        }
      ]
    },
    {
      "metadata": {
        "id": "42gCgt0sTEr5",
        "colab_type": "code",
        "outputId": "7ef51ac1-0206-4795-a3bc-d1ad7ac491d5",
        "colab": {
          "base_uri": "https://localhost:8080/",
          "height": 34
        }
      },
      "cell_type": "code",
      "source": [
        "# Number Of Columns\n",
        "dataset.shape[1]"
      ],
      "execution_count": 15,
      "outputs": [
        {
          "output_type": "execute_result",
          "data": {
            "text/plain": [
              "7"
            ]
          },
          "metadata": {
            "tags": []
          },
          "execution_count": 15
        }
      ]
    },
    {
      "metadata": {
        "id": "_Fem4sPfTt5K",
        "colab_type": "text"
      },
      "cell_type": "markdown",
      "source": [
        "### Dataset Read & Write"
      ]
    },
    {
      "metadata": {
        "id": "xzOsfNvmTtnM",
        "colab_type": "code",
        "outputId": "0d5d8f7b-7647-4aea-b1c3-802d7e37a38d",
        "colab": {
          "base_uri": "https://localhost:8080/",
          "height": 204
        }
      },
      "cell_type": "code",
      "source": [
        "dataset.head()"
      ],
      "execution_count": 16,
      "outputs": [
        {
          "output_type": "execute_result",
          "data": {
            "text/html": [
              "<div>\n",
              "<style scoped>\n",
              "    .dataframe tbody tr th:only-of-type {\n",
              "        vertical-align: middle;\n",
              "    }\n",
              "\n",
              "    .dataframe tbody tr th {\n",
              "        vertical-align: top;\n",
              "    }\n",
              "\n",
              "    .dataframe thead th {\n",
              "        text-align: right;\n",
              "    }\n",
              "</style>\n",
              "<table border=\"1\" class=\"dataframe\">\n",
              "  <thead>\n",
              "    <tr style=\"text-align: right;\">\n",
              "      <th></th>\n",
              "      <th>Unnamed: 0</th>\n",
              "      <th>id</th>\n",
              "      <th>groups</th>\n",
              "      <th>age</th>\n",
              "      <th>healthy_eating</th>\n",
              "      <th>active_lifestyle</th>\n",
              "      <th>salary</th>\n",
              "    </tr>\n",
              "  </thead>\n",
              "  <tbody>\n",
              "    <tr>\n",
              "      <th>0</th>\n",
              "      <td>0</td>\n",
              "      <td>0</td>\n",
              "      <td>A</td>\n",
              "      <td>36</td>\n",
              "      <td>5</td>\n",
              "      <td>5</td>\n",
              "      <td>2297</td>\n",
              "    </tr>\n",
              "    <tr>\n",
              "      <th>1</th>\n",
              "      <td>1</td>\n",
              "      <td>1</td>\n",
              "      <td>A</td>\n",
              "      <td>55</td>\n",
              "      <td>3</td>\n",
              "      <td>5</td>\n",
              "      <td>1134</td>\n",
              "    </tr>\n",
              "    <tr>\n",
              "      <th>2</th>\n",
              "      <td>2</td>\n",
              "      <td>2</td>\n",
              "      <td>A</td>\n",
              "      <td>61</td>\n",
              "      <td>8</td>\n",
              "      <td>1</td>\n",
              "      <td>4969</td>\n",
              "    </tr>\n",
              "    <tr>\n",
              "      <th>3</th>\n",
              "      <td>3</td>\n",
              "      <td>3</td>\n",
              "      <td>O</td>\n",
              "      <td>29</td>\n",
              "      <td>3</td>\n",
              "      <td>6</td>\n",
              "      <td>902</td>\n",
              "    </tr>\n",
              "    <tr>\n",
              "      <th>4</th>\n",
              "      <td>4</td>\n",
              "      <td>4</td>\n",
              "      <td>O</td>\n",
              "      <td>34</td>\n",
              "      <td>6</td>\n",
              "      <td>2</td>\n",
              "      <td>3574</td>\n",
              "    </tr>\n",
              "  </tbody>\n",
              "</table>\n",
              "</div>"
            ],
            "text/plain": [
              "   Unnamed: 0  id groups  age  healthy_eating  active_lifestyle  salary\n",
              "0           0   0      A   36               5                 5    2297\n",
              "1           1   1      A   55               3                 5    1134\n",
              "2           2   2      A   61               8                 1    4969\n",
              "3           3   3      O   29               3                 6     902\n",
              "4           4   4      O   34               6                 2    3574"
            ]
          },
          "metadata": {
            "tags": []
          },
          "execution_count": 16
        }
      ]
    },
    {
      "metadata": {
        "id": "B-f4aTJpTKpe",
        "colab_type": "code",
        "outputId": "3e265385-3d4f-44eb-a34e-8295348503fa",
        "colab": {
          "base_uri": "https://localhost:8080/",
          "height": 111
        }
      },
      "cell_type": "code",
      "source": [
        "dataset.head(2)"
      ],
      "execution_count": 17,
      "outputs": [
        {
          "output_type": "execute_result",
          "data": {
            "text/html": [
              "<div>\n",
              "<style scoped>\n",
              "    .dataframe tbody tr th:only-of-type {\n",
              "        vertical-align: middle;\n",
              "    }\n",
              "\n",
              "    .dataframe tbody tr th {\n",
              "        vertical-align: top;\n",
              "    }\n",
              "\n",
              "    .dataframe thead th {\n",
              "        text-align: right;\n",
              "    }\n",
              "</style>\n",
              "<table border=\"1\" class=\"dataframe\">\n",
              "  <thead>\n",
              "    <tr style=\"text-align: right;\">\n",
              "      <th></th>\n",
              "      <th>Unnamed: 0</th>\n",
              "      <th>id</th>\n",
              "      <th>groups</th>\n",
              "      <th>age</th>\n",
              "      <th>healthy_eating</th>\n",
              "      <th>active_lifestyle</th>\n",
              "      <th>salary</th>\n",
              "    </tr>\n",
              "  </thead>\n",
              "  <tbody>\n",
              "    <tr>\n",
              "      <th>0</th>\n",
              "      <td>0</td>\n",
              "      <td>0</td>\n",
              "      <td>A</td>\n",
              "      <td>36</td>\n",
              "      <td>5</td>\n",
              "      <td>5</td>\n",
              "      <td>2297</td>\n",
              "    </tr>\n",
              "    <tr>\n",
              "      <th>1</th>\n",
              "      <td>1</td>\n",
              "      <td>1</td>\n",
              "      <td>A</td>\n",
              "      <td>55</td>\n",
              "      <td>3</td>\n",
              "      <td>5</td>\n",
              "      <td>1134</td>\n",
              "    </tr>\n",
              "  </tbody>\n",
              "</table>\n",
              "</div>"
            ],
            "text/plain": [
              "   Unnamed: 0  id groups  age  healthy_eating  active_lifestyle  salary\n",
              "0           0   0      A   36               5                 5    2297\n",
              "1           1   1      A   55               3                 5    1134"
            ]
          },
          "metadata": {
            "tags": []
          },
          "execution_count": 17
        }
      ]
    },
    {
      "metadata": {
        "id": "RhcbeEGNTyrm",
        "colab_type": "code",
        "outputId": "d2068979-05e0-448c-c818-1a9e5f8cd82a",
        "colab": {
          "base_uri": "https://localhost:8080/",
          "height": 204
        }
      },
      "cell_type": "code",
      "source": [
        "dataset.tail()"
      ],
      "execution_count": 18,
      "outputs": [
        {
          "output_type": "execute_result",
          "data": {
            "text/html": [
              "<div>\n",
              "<style scoped>\n",
              "    .dataframe tbody tr th:only-of-type {\n",
              "        vertical-align: middle;\n",
              "    }\n",
              "\n",
              "    .dataframe tbody tr th {\n",
              "        vertical-align: top;\n",
              "    }\n",
              "\n",
              "    .dataframe thead th {\n",
              "        text-align: right;\n",
              "    }\n",
              "</style>\n",
              "<table border=\"1\" class=\"dataframe\">\n",
              "  <thead>\n",
              "    <tr style=\"text-align: right;\">\n",
              "      <th></th>\n",
              "      <th>Unnamed: 0</th>\n",
              "      <th>id</th>\n",
              "      <th>groups</th>\n",
              "      <th>age</th>\n",
              "      <th>healthy_eating</th>\n",
              "      <th>active_lifestyle</th>\n",
              "      <th>salary</th>\n",
              "    </tr>\n",
              "  </thead>\n",
              "  <tbody>\n",
              "    <tr>\n",
              "      <th>995</th>\n",
              "      <td>995</td>\n",
              "      <td>995</td>\n",
              "      <td>O</td>\n",
              "      <td>33</td>\n",
              "      <td>7</td>\n",
              "      <td>7</td>\n",
              "      <td>2996</td>\n",
              "    </tr>\n",
              "    <tr>\n",
              "      <th>996</th>\n",
              "      <td>996</td>\n",
              "      <td>996</td>\n",
              "      <td>O</td>\n",
              "      <td>21</td>\n",
              "      <td>1</td>\n",
              "      <td>2</td>\n",
              "      <td>667</td>\n",
              "    </tr>\n",
              "    <tr>\n",
              "      <th>997</th>\n",
              "      <td>997</td>\n",
              "      <td>997</td>\n",
              "      <td>O</td>\n",
              "      <td>49</td>\n",
              "      <td>9</td>\n",
              "      <td>7</td>\n",
              "      <td>4158</td>\n",
              "    </tr>\n",
              "    <tr>\n",
              "      <th>998</th>\n",
              "      <td>998</td>\n",
              "      <td>998</td>\n",
              "      <td>AB</td>\n",
              "      <td>56</td>\n",
              "      <td>6</td>\n",
              "      <td>7</td>\n",
              "      <td>2414</td>\n",
              "    </tr>\n",
              "    <tr>\n",
              "      <th>999</th>\n",
              "      <td>999</td>\n",
              "      <td>999</td>\n",
              "      <td>B</td>\n",
              "      <td>64</td>\n",
              "      <td>4</td>\n",
              "      <td>9</td>\n",
              "      <td>788</td>\n",
              "    </tr>\n",
              "  </tbody>\n",
              "</table>\n",
              "</div>"
            ],
            "text/plain": [
              "     Unnamed: 0   id groups  age  healthy_eating  active_lifestyle  salary\n",
              "995         995  995      O   33               7                 7    2996\n",
              "996         996  996      O   21               1                 2     667\n",
              "997         997  997      O   49               9                 7    4158\n",
              "998         998  998     AB   56               6                 7    2414\n",
              "999         999  999      B   64               4                 9     788"
            ]
          },
          "metadata": {
            "tags": []
          },
          "execution_count": 18
        }
      ]
    },
    {
      "metadata": {
        "id": "XLFwkI-uT1ME",
        "colab_type": "code",
        "outputId": "fb4ac6f5-222b-447b-a44f-3b3d3eb327d2",
        "colab": {
          "base_uri": "https://localhost:8080/",
          "height": 111
        }
      },
      "cell_type": "code",
      "source": [
        "dataset.tail(2)"
      ],
      "execution_count": 19,
      "outputs": [
        {
          "output_type": "execute_result",
          "data": {
            "text/html": [
              "<div>\n",
              "<style scoped>\n",
              "    .dataframe tbody tr th:only-of-type {\n",
              "        vertical-align: middle;\n",
              "    }\n",
              "\n",
              "    .dataframe tbody tr th {\n",
              "        vertical-align: top;\n",
              "    }\n",
              "\n",
              "    .dataframe thead th {\n",
              "        text-align: right;\n",
              "    }\n",
              "</style>\n",
              "<table border=\"1\" class=\"dataframe\">\n",
              "  <thead>\n",
              "    <tr style=\"text-align: right;\">\n",
              "      <th></th>\n",
              "      <th>Unnamed: 0</th>\n",
              "      <th>id</th>\n",
              "      <th>groups</th>\n",
              "      <th>age</th>\n",
              "      <th>healthy_eating</th>\n",
              "      <th>active_lifestyle</th>\n",
              "      <th>salary</th>\n",
              "    </tr>\n",
              "  </thead>\n",
              "  <tbody>\n",
              "    <tr>\n",
              "      <th>998</th>\n",
              "      <td>998</td>\n",
              "      <td>998</td>\n",
              "      <td>AB</td>\n",
              "      <td>56</td>\n",
              "      <td>6</td>\n",
              "      <td>7</td>\n",
              "      <td>2414</td>\n",
              "    </tr>\n",
              "    <tr>\n",
              "      <th>999</th>\n",
              "      <td>999</td>\n",
              "      <td>999</td>\n",
              "      <td>B</td>\n",
              "      <td>64</td>\n",
              "      <td>4</td>\n",
              "      <td>9</td>\n",
              "      <td>788</td>\n",
              "    </tr>\n",
              "  </tbody>\n",
              "</table>\n",
              "</div>"
            ],
            "text/plain": [
              "     Unnamed: 0   id groups  age  healthy_eating  active_lifestyle  salary\n",
              "998         998  998     AB   56               6                 7    2414\n",
              "999         999  999      B   64               4                 9     788"
            ]
          },
          "metadata": {
            "tags": []
          },
          "execution_count": 19
        }
      ]
    },
    {
      "metadata": {
        "id": "Lf3Wbb9TUTDs",
        "colab_type": "code",
        "colab": {}
      },
      "cell_type": "code",
      "source": [
        "student = pd.DataFrame({'No':[1,2,3,4,5],\n",
        "    'Name':['Jeff Bezos','Tim Cook','Sundar Pichai','Mark Zuckerberg','Satya Nadella']})"
      ],
      "execution_count": 0,
      "outputs": []
    },
    {
      "metadata": {
        "id": "5JqZ7AYgVSEa",
        "colab_type": "code",
        "outputId": "cfea0eea-dffb-4de8-ba05-b8153fb1143e",
        "colab": {
          "base_uri": "https://localhost:8080/",
          "height": 204
        }
      },
      "cell_type": "code",
      "source": [
        "student"
      ],
      "execution_count": 21,
      "outputs": [
        {
          "output_type": "execute_result",
          "data": {
            "text/html": [
              "<div>\n",
              "<style scoped>\n",
              "    .dataframe tbody tr th:only-of-type {\n",
              "        vertical-align: middle;\n",
              "    }\n",
              "\n",
              "    .dataframe tbody tr th {\n",
              "        vertical-align: top;\n",
              "    }\n",
              "\n",
              "    .dataframe thead th {\n",
              "        text-align: right;\n",
              "    }\n",
              "</style>\n",
              "<table border=\"1\" class=\"dataframe\">\n",
              "  <thead>\n",
              "    <tr style=\"text-align: right;\">\n",
              "      <th></th>\n",
              "      <th>No</th>\n",
              "      <th>Name</th>\n",
              "    </tr>\n",
              "  </thead>\n",
              "  <tbody>\n",
              "    <tr>\n",
              "      <th>0</th>\n",
              "      <td>1</td>\n",
              "      <td>Jeff Bezos</td>\n",
              "    </tr>\n",
              "    <tr>\n",
              "      <th>1</th>\n",
              "      <td>2</td>\n",
              "      <td>Tim Cook</td>\n",
              "    </tr>\n",
              "    <tr>\n",
              "      <th>2</th>\n",
              "      <td>3</td>\n",
              "      <td>Sundar Pichai</td>\n",
              "    </tr>\n",
              "    <tr>\n",
              "      <th>3</th>\n",
              "      <td>4</td>\n",
              "      <td>Mark Zuckerberg</td>\n",
              "    </tr>\n",
              "    <tr>\n",
              "      <th>4</th>\n",
              "      <td>5</td>\n",
              "      <td>Satya Nadella</td>\n",
              "    </tr>\n",
              "  </tbody>\n",
              "</table>\n",
              "</div>"
            ],
            "text/plain": [
              "   No             Name\n",
              "0   1       Jeff Bezos\n",
              "1   2         Tim Cook\n",
              "2   3    Sundar Pichai\n",
              "3   4  Mark Zuckerberg\n",
              "4   5    Satya Nadella"
            ]
          },
          "metadata": {
            "tags": []
          },
          "execution_count": 21
        }
      ]
    },
    {
      "metadata": {
        "id": "fE4Jl-JzVTsf",
        "colab_type": "code",
        "colab": {}
      },
      "cell_type": "code",
      "source": [
        "student.to_csv(\"student.csv\")"
      ],
      "execution_count": 0,
      "outputs": []
    },
    {
      "metadata": {
        "id": "hjhgOlTfZUiz",
        "colab_type": "code",
        "outputId": "f3fae895-6564-4823-d8b8-a42919ddbc46",
        "colab": {
          "base_uri": "https://localhost:8080/",
          "height": 204
        }
      },
      "cell_type": "code",
      "source": [
        "# Dataframe\n",
        "student[[\"Name\"]]"
      ],
      "execution_count": 23,
      "outputs": [
        {
          "output_type": "execute_result",
          "data": {
            "text/html": [
              "<div>\n",
              "<style scoped>\n",
              "    .dataframe tbody tr th:only-of-type {\n",
              "        vertical-align: middle;\n",
              "    }\n",
              "\n",
              "    .dataframe tbody tr th {\n",
              "        vertical-align: top;\n",
              "    }\n",
              "\n",
              "    .dataframe thead th {\n",
              "        text-align: right;\n",
              "    }\n",
              "</style>\n",
              "<table border=\"1\" class=\"dataframe\">\n",
              "  <thead>\n",
              "    <tr style=\"text-align: right;\">\n",
              "      <th></th>\n",
              "      <th>Name</th>\n",
              "    </tr>\n",
              "  </thead>\n",
              "  <tbody>\n",
              "    <tr>\n",
              "      <th>0</th>\n",
              "      <td>Jeff Bezos</td>\n",
              "    </tr>\n",
              "    <tr>\n",
              "      <th>1</th>\n",
              "      <td>Tim Cook</td>\n",
              "    </tr>\n",
              "    <tr>\n",
              "      <th>2</th>\n",
              "      <td>Sundar Pichai</td>\n",
              "    </tr>\n",
              "    <tr>\n",
              "      <th>3</th>\n",
              "      <td>Mark Zuckerberg</td>\n",
              "    </tr>\n",
              "    <tr>\n",
              "      <th>4</th>\n",
              "      <td>Satya Nadella</td>\n",
              "    </tr>\n",
              "  </tbody>\n",
              "</table>\n",
              "</div>"
            ],
            "text/plain": [
              "              Name\n",
              "0       Jeff Bezos\n",
              "1         Tim Cook\n",
              "2    Sundar Pichai\n",
              "3  Mark Zuckerberg\n",
              "4    Satya Nadella"
            ]
          },
          "metadata": {
            "tags": []
          },
          "execution_count": 23
        }
      ]
    },
    {
      "metadata": {
        "id": "l3HgUcWPZq68",
        "colab_type": "code",
        "outputId": "e7aa9df5-cf4a-42d3-914a-0e2b7f1dc247",
        "colab": {
          "base_uri": "https://localhost:8080/",
          "height": 119
        }
      },
      "cell_type": "code",
      "source": [
        "# Series\n",
        "student['Name']"
      ],
      "execution_count": 24,
      "outputs": [
        {
          "output_type": "execute_result",
          "data": {
            "text/plain": [
              "0         Jeff Bezos\n",
              "1           Tim Cook\n",
              "2      Sundar Pichai\n",
              "3    Mark Zuckerberg\n",
              "4      Satya Nadella\n",
              "Name: Name, dtype: object"
            ]
          },
          "metadata": {
            "tags": []
          },
          "execution_count": 24
        }
      ]
    },
    {
      "metadata": {
        "id": "uvMyOo6faCzE",
        "colab_type": "code",
        "outputId": "0e7837e0-ca82-4859-dca3-c719f7a8e650",
        "colab": {
          "base_uri": "https://localhost:8080/",
          "height": 80
        }
      },
      "cell_type": "code",
      "source": [
        "student.loc[[1]]"
      ],
      "execution_count": 25,
      "outputs": [
        {
          "output_type": "execute_result",
          "data": {
            "text/html": [
              "<div>\n",
              "<style scoped>\n",
              "    .dataframe tbody tr th:only-of-type {\n",
              "        vertical-align: middle;\n",
              "    }\n",
              "\n",
              "    .dataframe tbody tr th {\n",
              "        vertical-align: top;\n",
              "    }\n",
              "\n",
              "    .dataframe thead th {\n",
              "        text-align: right;\n",
              "    }\n",
              "</style>\n",
              "<table border=\"1\" class=\"dataframe\">\n",
              "  <thead>\n",
              "    <tr style=\"text-align: right;\">\n",
              "      <th></th>\n",
              "      <th>No</th>\n",
              "      <th>Name</th>\n",
              "    </tr>\n",
              "  </thead>\n",
              "  <tbody>\n",
              "    <tr>\n",
              "      <th>1</th>\n",
              "      <td>2</td>\n",
              "      <td>Tim Cook</td>\n",
              "    </tr>\n",
              "  </tbody>\n",
              "</table>\n",
              "</div>"
            ],
            "text/plain": [
              "   No      Name\n",
              "1   2  Tim Cook"
            ]
          },
          "metadata": {
            "tags": []
          },
          "execution_count": 25
        }
      ]
    },
    {
      "metadata": {
        "id": "d29UZ2h-aShr",
        "colab_type": "code",
        "outputId": "8dc0f997-e622-4539-e1da-6d8ad9ee3a35",
        "colab": {
          "base_uri": "https://localhost:8080/",
          "height": 119
        }
      },
      "cell_type": "code",
      "source": [
        "student.iloc[:,1]"
      ],
      "execution_count": 26,
      "outputs": [
        {
          "output_type": "execute_result",
          "data": {
            "text/plain": [
              "0         Jeff Bezos\n",
              "1           Tim Cook\n",
              "2      Sundar Pichai\n",
              "3    Mark Zuckerberg\n",
              "4      Satya Nadella\n",
              "Name: Name, dtype: object"
            ]
          },
          "metadata": {
            "tags": []
          },
          "execution_count": 26
        }
      ]
    },
    {
      "metadata": {
        "id": "WyJIiTwmaYR6",
        "colab_type": "code",
        "outputId": "4f02fde5-18b6-442e-c7d7-1f896ec69fd1",
        "colab": {
          "base_uri": "https://localhost:8080/",
          "height": 119
        }
      },
      "cell_type": "code",
      "source": [
        "student.No"
      ],
      "execution_count": 27,
      "outputs": [
        {
          "output_type": "execute_result",
          "data": {
            "text/plain": [
              "0    1\n",
              "1    2\n",
              "2    3\n",
              "3    4\n",
              "4    5\n",
              "Name: No, dtype: int64"
            ]
          },
          "metadata": {
            "tags": []
          },
          "execution_count": 27
        }
      ]
    },
    {
      "metadata": {
        "id": "NbKzO9teagmj",
        "colab_type": "code",
        "outputId": "10e9a074-86fa-4cdf-d115-e332cac86e8c",
        "colab": {
          "base_uri": "https://localhost:8080/",
          "height": 119
        }
      },
      "cell_type": "code",
      "source": [
        "student.Name"
      ],
      "execution_count": 28,
      "outputs": [
        {
          "output_type": "execute_result",
          "data": {
            "text/plain": [
              "0         Jeff Bezos\n",
              "1           Tim Cook\n",
              "2      Sundar Pichai\n",
              "3    Mark Zuckerberg\n",
              "4      Satya Nadella\n",
              "Name: Name, dtype: object"
            ]
          },
          "metadata": {
            "tags": []
          },
          "execution_count": 28
        }
      ]
    },
    {
      "metadata": {
        "id": "6-rfB-lOah-z",
        "colab_type": "code",
        "outputId": "cd38d4f2-d90d-4869-9af7-7e622cda6353",
        "colab": {
          "base_uri": "https://localhost:8080/",
          "height": 204
        }
      },
      "cell_type": "code",
      "source": [
        "student.head()"
      ],
      "execution_count": 29,
      "outputs": [
        {
          "output_type": "execute_result",
          "data": {
            "text/html": [
              "<div>\n",
              "<style scoped>\n",
              "    .dataframe tbody tr th:only-of-type {\n",
              "        vertical-align: middle;\n",
              "    }\n",
              "\n",
              "    .dataframe tbody tr th {\n",
              "        vertical-align: top;\n",
              "    }\n",
              "\n",
              "    .dataframe thead th {\n",
              "        text-align: right;\n",
              "    }\n",
              "</style>\n",
              "<table border=\"1\" class=\"dataframe\">\n",
              "  <thead>\n",
              "    <tr style=\"text-align: right;\">\n",
              "      <th></th>\n",
              "      <th>No</th>\n",
              "      <th>Name</th>\n",
              "    </tr>\n",
              "  </thead>\n",
              "  <tbody>\n",
              "    <tr>\n",
              "      <th>0</th>\n",
              "      <td>1</td>\n",
              "      <td>Jeff Bezos</td>\n",
              "    </tr>\n",
              "    <tr>\n",
              "      <th>1</th>\n",
              "      <td>2</td>\n",
              "      <td>Tim Cook</td>\n",
              "    </tr>\n",
              "    <tr>\n",
              "      <th>2</th>\n",
              "      <td>3</td>\n",
              "      <td>Sundar Pichai</td>\n",
              "    </tr>\n",
              "    <tr>\n",
              "      <th>3</th>\n",
              "      <td>4</td>\n",
              "      <td>Mark Zuckerberg</td>\n",
              "    </tr>\n",
              "    <tr>\n",
              "      <th>4</th>\n",
              "      <td>5</td>\n",
              "      <td>Satya Nadella</td>\n",
              "    </tr>\n",
              "  </tbody>\n",
              "</table>\n",
              "</div>"
            ],
            "text/plain": [
              "   No             Name\n",
              "0   1       Jeff Bezos\n",
              "1   2         Tim Cook\n",
              "2   3    Sundar Pichai\n",
              "3   4  Mark Zuckerberg\n",
              "4   5    Satya Nadella"
            ]
          },
          "metadata": {
            "tags": []
          },
          "execution_count": 29
        }
      ]
    },
    {
      "metadata": {
        "id": "54g9OldV-u5c",
        "colab_type": "text"
      },
      "cell_type": "markdown",
      "source": [
        "## Reindexing"
      ]
    },
    {
      "metadata": {
        "id": "JcLAwBwcat8c",
        "colab_type": "code",
        "outputId": "ccaf8283-c079-4361-85c7-38b74ffd2193",
        "colab": {
          "base_uri": "https://localhost:8080/",
          "height": 235
        }
      },
      "cell_type": "code",
      "source": [
        "student.set_index(\"No\",inplace=True)\n",
        "student"
      ],
      "execution_count": 30,
      "outputs": [
        {
          "output_type": "execute_result",
          "data": {
            "text/html": [
              "<div>\n",
              "<style scoped>\n",
              "    .dataframe tbody tr th:only-of-type {\n",
              "        vertical-align: middle;\n",
              "    }\n",
              "\n",
              "    .dataframe tbody tr th {\n",
              "        vertical-align: top;\n",
              "    }\n",
              "\n",
              "    .dataframe thead th {\n",
              "        text-align: right;\n",
              "    }\n",
              "</style>\n",
              "<table border=\"1\" class=\"dataframe\">\n",
              "  <thead>\n",
              "    <tr style=\"text-align: right;\">\n",
              "      <th></th>\n",
              "      <th>Name</th>\n",
              "    </tr>\n",
              "    <tr>\n",
              "      <th>No</th>\n",
              "      <th></th>\n",
              "    </tr>\n",
              "  </thead>\n",
              "  <tbody>\n",
              "    <tr>\n",
              "      <th>1</th>\n",
              "      <td>Jeff Bezos</td>\n",
              "    </tr>\n",
              "    <tr>\n",
              "      <th>2</th>\n",
              "      <td>Tim Cook</td>\n",
              "    </tr>\n",
              "    <tr>\n",
              "      <th>3</th>\n",
              "      <td>Sundar Pichai</td>\n",
              "    </tr>\n",
              "    <tr>\n",
              "      <th>4</th>\n",
              "      <td>Mark Zuckerberg</td>\n",
              "    </tr>\n",
              "    <tr>\n",
              "      <th>5</th>\n",
              "      <td>Satya Nadella</td>\n",
              "    </tr>\n",
              "  </tbody>\n",
              "</table>\n",
              "</div>"
            ],
            "text/plain": [
              "               Name\n",
              "No                 \n",
              "1        Jeff Bezos\n",
              "2          Tim Cook\n",
              "3     Sundar Pichai\n",
              "4   Mark Zuckerberg\n",
              "5     Satya Nadella"
            ]
          },
          "metadata": {
            "tags": []
          },
          "execution_count": 30
        }
      ]
    },
    {
      "metadata": {
        "id": "XYSJPfCoavoT",
        "colab_type": "code",
        "colab": {}
      },
      "cell_type": "code",
      "source": [
        "student.reset_index(inplace=True)"
      ],
      "execution_count": 0,
      "outputs": []
    },
    {
      "metadata": {
        "id": "efVoUHHOa4IJ",
        "colab_type": "code",
        "outputId": "3380f5aa-7990-4247-b9c1-519a2179ee29",
        "colab": {
          "base_uri": "https://localhost:8080/",
          "height": 204
        }
      },
      "cell_type": "code",
      "source": [
        "student"
      ],
      "execution_count": 32,
      "outputs": [
        {
          "output_type": "execute_result",
          "data": {
            "text/html": [
              "<div>\n",
              "<style scoped>\n",
              "    .dataframe tbody tr th:only-of-type {\n",
              "        vertical-align: middle;\n",
              "    }\n",
              "\n",
              "    .dataframe tbody tr th {\n",
              "        vertical-align: top;\n",
              "    }\n",
              "\n",
              "    .dataframe thead th {\n",
              "        text-align: right;\n",
              "    }\n",
              "</style>\n",
              "<table border=\"1\" class=\"dataframe\">\n",
              "  <thead>\n",
              "    <tr style=\"text-align: right;\">\n",
              "      <th></th>\n",
              "      <th>No</th>\n",
              "      <th>Name</th>\n",
              "    </tr>\n",
              "  </thead>\n",
              "  <tbody>\n",
              "    <tr>\n",
              "      <th>0</th>\n",
              "      <td>1</td>\n",
              "      <td>Jeff Bezos</td>\n",
              "    </tr>\n",
              "    <tr>\n",
              "      <th>1</th>\n",
              "      <td>2</td>\n",
              "      <td>Tim Cook</td>\n",
              "    </tr>\n",
              "    <tr>\n",
              "      <th>2</th>\n",
              "      <td>3</td>\n",
              "      <td>Sundar Pichai</td>\n",
              "    </tr>\n",
              "    <tr>\n",
              "      <th>3</th>\n",
              "      <td>4</td>\n",
              "      <td>Mark Zuckerberg</td>\n",
              "    </tr>\n",
              "    <tr>\n",
              "      <th>4</th>\n",
              "      <td>5</td>\n",
              "      <td>Satya Nadella</td>\n",
              "    </tr>\n",
              "  </tbody>\n",
              "</table>\n",
              "</div>"
            ],
            "text/plain": [
              "   No             Name\n",
              "0   1       Jeff Bezos\n",
              "1   2         Tim Cook\n",
              "2   3    Sundar Pichai\n",
              "3   4  Mark Zuckerberg\n",
              "4   5    Satya Nadella"
            ]
          },
          "metadata": {
            "tags": []
          },
          "execution_count": 32
        }
      ]
    },
    {
      "metadata": {
        "id": "lyOeyiY6-yqw",
        "colab_type": "text"
      },
      "cell_type": "markdown",
      "source": [
        "## Sorting"
      ]
    },
    {
      "metadata": {
        "id": "_WuwY5BWa_Ph",
        "colab_type": "code",
        "outputId": "6ec57774-74df-46f9-b272-09f16202d7a6",
        "colab": {
          "base_uri": "https://localhost:8080/",
          "height": 204
        }
      },
      "cell_type": "code",
      "source": [
        "student.sort_values(\"Name\",ascending=True)"
      ],
      "execution_count": 33,
      "outputs": [
        {
          "output_type": "execute_result",
          "data": {
            "text/html": [
              "<div>\n",
              "<style scoped>\n",
              "    .dataframe tbody tr th:only-of-type {\n",
              "        vertical-align: middle;\n",
              "    }\n",
              "\n",
              "    .dataframe tbody tr th {\n",
              "        vertical-align: top;\n",
              "    }\n",
              "\n",
              "    .dataframe thead th {\n",
              "        text-align: right;\n",
              "    }\n",
              "</style>\n",
              "<table border=\"1\" class=\"dataframe\">\n",
              "  <thead>\n",
              "    <tr style=\"text-align: right;\">\n",
              "      <th></th>\n",
              "      <th>No</th>\n",
              "      <th>Name</th>\n",
              "    </tr>\n",
              "  </thead>\n",
              "  <tbody>\n",
              "    <tr>\n",
              "      <th>0</th>\n",
              "      <td>1</td>\n",
              "      <td>Jeff Bezos</td>\n",
              "    </tr>\n",
              "    <tr>\n",
              "      <th>3</th>\n",
              "      <td>4</td>\n",
              "      <td>Mark Zuckerberg</td>\n",
              "    </tr>\n",
              "    <tr>\n",
              "      <th>4</th>\n",
              "      <td>5</td>\n",
              "      <td>Satya Nadella</td>\n",
              "    </tr>\n",
              "    <tr>\n",
              "      <th>2</th>\n",
              "      <td>3</td>\n",
              "      <td>Sundar Pichai</td>\n",
              "    </tr>\n",
              "    <tr>\n",
              "      <th>1</th>\n",
              "      <td>2</td>\n",
              "      <td>Tim Cook</td>\n",
              "    </tr>\n",
              "  </tbody>\n",
              "</table>\n",
              "</div>"
            ],
            "text/plain": [
              "   No             Name\n",
              "0   1       Jeff Bezos\n",
              "3   4  Mark Zuckerberg\n",
              "4   5    Satya Nadella\n",
              "2   3    Sundar Pichai\n",
              "1   2         Tim Cook"
            ]
          },
          "metadata": {
            "tags": []
          },
          "execution_count": 33
        }
      ]
    },
    {
      "metadata": {
        "id": "ZXemsiKsbZGO",
        "colab_type": "code",
        "outputId": "ec769ba0-41a0-4f73-bbd3-97672655953d",
        "colab": {
          "base_uri": "https://localhost:8080/",
          "height": 204
        }
      },
      "cell_type": "code",
      "source": [
        "student.sort_values(\"Name\",ascending=False)"
      ],
      "execution_count": 34,
      "outputs": [
        {
          "output_type": "execute_result",
          "data": {
            "text/html": [
              "<div>\n",
              "<style scoped>\n",
              "    .dataframe tbody tr th:only-of-type {\n",
              "        vertical-align: middle;\n",
              "    }\n",
              "\n",
              "    .dataframe tbody tr th {\n",
              "        vertical-align: top;\n",
              "    }\n",
              "\n",
              "    .dataframe thead th {\n",
              "        text-align: right;\n",
              "    }\n",
              "</style>\n",
              "<table border=\"1\" class=\"dataframe\">\n",
              "  <thead>\n",
              "    <tr style=\"text-align: right;\">\n",
              "      <th></th>\n",
              "      <th>No</th>\n",
              "      <th>Name</th>\n",
              "    </tr>\n",
              "  </thead>\n",
              "  <tbody>\n",
              "    <tr>\n",
              "      <th>1</th>\n",
              "      <td>2</td>\n",
              "      <td>Tim Cook</td>\n",
              "    </tr>\n",
              "    <tr>\n",
              "      <th>2</th>\n",
              "      <td>3</td>\n",
              "      <td>Sundar Pichai</td>\n",
              "    </tr>\n",
              "    <tr>\n",
              "      <th>4</th>\n",
              "      <td>5</td>\n",
              "      <td>Satya Nadella</td>\n",
              "    </tr>\n",
              "    <tr>\n",
              "      <th>3</th>\n",
              "      <td>4</td>\n",
              "      <td>Mark Zuckerberg</td>\n",
              "    </tr>\n",
              "    <tr>\n",
              "      <th>0</th>\n",
              "      <td>1</td>\n",
              "      <td>Jeff Bezos</td>\n",
              "    </tr>\n",
              "  </tbody>\n",
              "</table>\n",
              "</div>"
            ],
            "text/plain": [
              "   No             Name\n",
              "1   2         Tim Cook\n",
              "2   3    Sundar Pichai\n",
              "4   5    Satya Nadella\n",
              "3   4  Mark Zuckerberg\n",
              "0   1       Jeff Bezos"
            ]
          },
          "metadata": {
            "tags": []
          },
          "execution_count": 34
        }
      ]
    },
    {
      "metadata": {
        "id": "tD8dJzcA-29R",
        "colab_type": "text"
      },
      "cell_type": "markdown",
      "source": [
        "## Altering Labels Of Columns"
      ]
    },
    {
      "metadata": {
        "id": "rH1hY0EobgRE",
        "colab_type": "code",
        "outputId": "ce0efa6a-8995-4d7f-ee87-a23cf663b1a9",
        "colab": {
          "base_uri": "https://localhost:8080/",
          "height": 204
        }
      },
      "cell_type": "code",
      "source": [
        "student.columns = ['Roll No',\"Student Name\"]\n",
        "student"
      ],
      "execution_count": 35,
      "outputs": [
        {
          "output_type": "execute_result",
          "data": {
            "text/html": [
              "<div>\n",
              "<style scoped>\n",
              "    .dataframe tbody tr th:only-of-type {\n",
              "        vertical-align: middle;\n",
              "    }\n",
              "\n",
              "    .dataframe tbody tr th {\n",
              "        vertical-align: top;\n",
              "    }\n",
              "\n",
              "    .dataframe thead th {\n",
              "        text-align: right;\n",
              "    }\n",
              "</style>\n",
              "<table border=\"1\" class=\"dataframe\">\n",
              "  <thead>\n",
              "    <tr style=\"text-align: right;\">\n",
              "      <th></th>\n",
              "      <th>Roll No</th>\n",
              "      <th>Student Name</th>\n",
              "    </tr>\n",
              "  </thead>\n",
              "  <tbody>\n",
              "    <tr>\n",
              "      <th>0</th>\n",
              "      <td>1</td>\n",
              "      <td>Jeff Bezos</td>\n",
              "    </tr>\n",
              "    <tr>\n",
              "      <th>1</th>\n",
              "      <td>2</td>\n",
              "      <td>Tim Cook</td>\n",
              "    </tr>\n",
              "    <tr>\n",
              "      <th>2</th>\n",
              "      <td>3</td>\n",
              "      <td>Sundar Pichai</td>\n",
              "    </tr>\n",
              "    <tr>\n",
              "      <th>3</th>\n",
              "      <td>4</td>\n",
              "      <td>Mark Zuckerberg</td>\n",
              "    </tr>\n",
              "    <tr>\n",
              "      <th>4</th>\n",
              "      <td>5</td>\n",
              "      <td>Satya Nadella</td>\n",
              "    </tr>\n",
              "  </tbody>\n",
              "</table>\n",
              "</div>"
            ],
            "text/plain": [
              "   Roll No     Student Name\n",
              "0        1       Jeff Bezos\n",
              "1        2         Tim Cook\n",
              "2        3    Sundar Pichai\n",
              "3        4  Mark Zuckerberg\n",
              "4        5    Satya Nadella"
            ]
          },
          "metadata": {
            "tags": []
          },
          "execution_count": 35
        }
      ]
    },
    {
      "metadata": {
        "id": "cxdZkRwubp_F",
        "colab_type": "code",
        "outputId": "ef41c8ae-0f4e-4c74-beaf-f8e115b3fe10",
        "colab": {
          "base_uri": "https://localhost:8080/",
          "height": 204
        }
      },
      "cell_type": "code",
      "source": [
        "dataset.head()"
      ],
      "execution_count": 36,
      "outputs": [
        {
          "output_type": "execute_result",
          "data": {
            "text/html": [
              "<div>\n",
              "<style scoped>\n",
              "    .dataframe tbody tr th:only-of-type {\n",
              "        vertical-align: middle;\n",
              "    }\n",
              "\n",
              "    .dataframe tbody tr th {\n",
              "        vertical-align: top;\n",
              "    }\n",
              "\n",
              "    .dataframe thead th {\n",
              "        text-align: right;\n",
              "    }\n",
              "</style>\n",
              "<table border=\"1\" class=\"dataframe\">\n",
              "  <thead>\n",
              "    <tr style=\"text-align: right;\">\n",
              "      <th></th>\n",
              "      <th>Unnamed: 0</th>\n",
              "      <th>id</th>\n",
              "      <th>groups</th>\n",
              "      <th>age</th>\n",
              "      <th>healthy_eating</th>\n",
              "      <th>active_lifestyle</th>\n",
              "      <th>salary</th>\n",
              "    </tr>\n",
              "  </thead>\n",
              "  <tbody>\n",
              "    <tr>\n",
              "      <th>0</th>\n",
              "      <td>0</td>\n",
              "      <td>0</td>\n",
              "      <td>A</td>\n",
              "      <td>36</td>\n",
              "      <td>5</td>\n",
              "      <td>5</td>\n",
              "      <td>2297</td>\n",
              "    </tr>\n",
              "    <tr>\n",
              "      <th>1</th>\n",
              "      <td>1</td>\n",
              "      <td>1</td>\n",
              "      <td>A</td>\n",
              "      <td>55</td>\n",
              "      <td>3</td>\n",
              "      <td>5</td>\n",
              "      <td>1134</td>\n",
              "    </tr>\n",
              "    <tr>\n",
              "      <th>2</th>\n",
              "      <td>2</td>\n",
              "      <td>2</td>\n",
              "      <td>A</td>\n",
              "      <td>61</td>\n",
              "      <td>8</td>\n",
              "      <td>1</td>\n",
              "      <td>4969</td>\n",
              "    </tr>\n",
              "    <tr>\n",
              "      <th>3</th>\n",
              "      <td>3</td>\n",
              "      <td>3</td>\n",
              "      <td>O</td>\n",
              "      <td>29</td>\n",
              "      <td>3</td>\n",
              "      <td>6</td>\n",
              "      <td>902</td>\n",
              "    </tr>\n",
              "    <tr>\n",
              "      <th>4</th>\n",
              "      <td>4</td>\n",
              "      <td>4</td>\n",
              "      <td>O</td>\n",
              "      <td>34</td>\n",
              "      <td>6</td>\n",
              "      <td>2</td>\n",
              "      <td>3574</td>\n",
              "    </tr>\n",
              "  </tbody>\n",
              "</table>\n",
              "</div>"
            ],
            "text/plain": [
              "   Unnamed: 0  id groups  age  healthy_eating  active_lifestyle  salary\n",
              "0           0   0      A   36               5                 5    2297\n",
              "1           1   1      A   55               3                 5    1134\n",
              "2           2   2      A   61               8                 1    4969\n",
              "3           3   3      O   29               3                 6     902\n",
              "4           4   4      O   34               6                 2    3574"
            ]
          },
          "metadata": {
            "tags": []
          },
          "execution_count": 36
        }
      ]
    },
    {
      "metadata": {
        "id": "em4zpGlegOoK",
        "colab_type": "text"
      },
      "cell_type": "markdown",
      "source": [
        "### Drop Any Columns"
      ]
    },
    {
      "metadata": {
        "id": "G9kcKRE8f9et",
        "colab_type": "code",
        "colab": {}
      },
      "cell_type": "code",
      "source": [
        "### Row Wise\n",
        "dataset.drop(10,axis=0,inplace=True)"
      ],
      "execution_count": 0,
      "outputs": []
    },
    {
      "metadata": {
        "id": "YQAtBpMIgAg9",
        "colab_type": "code",
        "outputId": "d7f0d340-f24d-440d-83ca-af4b6320fc5c",
        "colab": {
          "base_uri": "https://localhost:8080/",
          "height": 204
        }
      },
      "cell_type": "code",
      "source": [
        "dataset.head()"
      ],
      "execution_count": 38,
      "outputs": [
        {
          "output_type": "execute_result",
          "data": {
            "text/html": [
              "<div>\n",
              "<style scoped>\n",
              "    .dataframe tbody tr th:only-of-type {\n",
              "        vertical-align: middle;\n",
              "    }\n",
              "\n",
              "    .dataframe tbody tr th {\n",
              "        vertical-align: top;\n",
              "    }\n",
              "\n",
              "    .dataframe thead th {\n",
              "        text-align: right;\n",
              "    }\n",
              "</style>\n",
              "<table border=\"1\" class=\"dataframe\">\n",
              "  <thead>\n",
              "    <tr style=\"text-align: right;\">\n",
              "      <th></th>\n",
              "      <th>Unnamed: 0</th>\n",
              "      <th>id</th>\n",
              "      <th>groups</th>\n",
              "      <th>age</th>\n",
              "      <th>healthy_eating</th>\n",
              "      <th>active_lifestyle</th>\n",
              "      <th>salary</th>\n",
              "    </tr>\n",
              "  </thead>\n",
              "  <tbody>\n",
              "    <tr>\n",
              "      <th>0</th>\n",
              "      <td>0</td>\n",
              "      <td>0</td>\n",
              "      <td>A</td>\n",
              "      <td>36</td>\n",
              "      <td>5</td>\n",
              "      <td>5</td>\n",
              "      <td>2297</td>\n",
              "    </tr>\n",
              "    <tr>\n",
              "      <th>1</th>\n",
              "      <td>1</td>\n",
              "      <td>1</td>\n",
              "      <td>A</td>\n",
              "      <td>55</td>\n",
              "      <td>3</td>\n",
              "      <td>5</td>\n",
              "      <td>1134</td>\n",
              "    </tr>\n",
              "    <tr>\n",
              "      <th>2</th>\n",
              "      <td>2</td>\n",
              "      <td>2</td>\n",
              "      <td>A</td>\n",
              "      <td>61</td>\n",
              "      <td>8</td>\n",
              "      <td>1</td>\n",
              "      <td>4969</td>\n",
              "    </tr>\n",
              "    <tr>\n",
              "      <th>3</th>\n",
              "      <td>3</td>\n",
              "      <td>3</td>\n",
              "      <td>O</td>\n",
              "      <td>29</td>\n",
              "      <td>3</td>\n",
              "      <td>6</td>\n",
              "      <td>902</td>\n",
              "    </tr>\n",
              "    <tr>\n",
              "      <th>4</th>\n",
              "      <td>4</td>\n",
              "      <td>4</td>\n",
              "      <td>O</td>\n",
              "      <td>34</td>\n",
              "      <td>6</td>\n",
              "      <td>2</td>\n",
              "      <td>3574</td>\n",
              "    </tr>\n",
              "  </tbody>\n",
              "</table>\n",
              "</div>"
            ],
            "text/plain": [
              "   Unnamed: 0  id groups  age  healthy_eating  active_lifestyle  salary\n",
              "0           0   0      A   36               5                 5    2297\n",
              "1           1   1      A   55               3                 5    1134\n",
              "2           2   2      A   61               8                 1    4969\n",
              "3           3   3      O   29               3                 6     902\n",
              "4           4   4      O   34               6                 2    3574"
            ]
          },
          "metadata": {
            "tags": []
          },
          "execution_count": 38
        }
      ]
    },
    {
      "metadata": {
        "id": "MMH1Ara7gooQ",
        "colab_type": "code",
        "colab": {}
      },
      "cell_type": "code",
      "source": [
        "# Column Wise\n",
        "dataset.drop(\"active_lifestyle\",axis=1,inplace=True)\n"
      ],
      "execution_count": 0,
      "outputs": []
    },
    {
      "metadata": {
        "id": "rryr7QoqgwOi",
        "colab_type": "code",
        "outputId": "ea829357-4331-4ad7-a4aa-fd28581b9df0",
        "colab": {
          "base_uri": "https://localhost:8080/",
          "height": 204
        }
      },
      "cell_type": "code",
      "source": [
        "dataset.head()"
      ],
      "execution_count": 40,
      "outputs": [
        {
          "output_type": "execute_result",
          "data": {
            "text/html": [
              "<div>\n",
              "<style scoped>\n",
              "    .dataframe tbody tr th:only-of-type {\n",
              "        vertical-align: middle;\n",
              "    }\n",
              "\n",
              "    .dataframe tbody tr th {\n",
              "        vertical-align: top;\n",
              "    }\n",
              "\n",
              "    .dataframe thead th {\n",
              "        text-align: right;\n",
              "    }\n",
              "</style>\n",
              "<table border=\"1\" class=\"dataframe\">\n",
              "  <thead>\n",
              "    <tr style=\"text-align: right;\">\n",
              "      <th></th>\n",
              "      <th>Unnamed: 0</th>\n",
              "      <th>id</th>\n",
              "      <th>groups</th>\n",
              "      <th>age</th>\n",
              "      <th>healthy_eating</th>\n",
              "      <th>salary</th>\n",
              "    </tr>\n",
              "  </thead>\n",
              "  <tbody>\n",
              "    <tr>\n",
              "      <th>0</th>\n",
              "      <td>0</td>\n",
              "      <td>0</td>\n",
              "      <td>A</td>\n",
              "      <td>36</td>\n",
              "      <td>5</td>\n",
              "      <td>2297</td>\n",
              "    </tr>\n",
              "    <tr>\n",
              "      <th>1</th>\n",
              "      <td>1</td>\n",
              "      <td>1</td>\n",
              "      <td>A</td>\n",
              "      <td>55</td>\n",
              "      <td>3</td>\n",
              "      <td>1134</td>\n",
              "    </tr>\n",
              "    <tr>\n",
              "      <th>2</th>\n",
              "      <td>2</td>\n",
              "      <td>2</td>\n",
              "      <td>A</td>\n",
              "      <td>61</td>\n",
              "      <td>8</td>\n",
              "      <td>4969</td>\n",
              "    </tr>\n",
              "    <tr>\n",
              "      <th>3</th>\n",
              "      <td>3</td>\n",
              "      <td>3</td>\n",
              "      <td>O</td>\n",
              "      <td>29</td>\n",
              "      <td>3</td>\n",
              "      <td>902</td>\n",
              "    </tr>\n",
              "    <tr>\n",
              "      <th>4</th>\n",
              "      <td>4</td>\n",
              "      <td>4</td>\n",
              "      <td>O</td>\n",
              "      <td>34</td>\n",
              "      <td>6</td>\n",
              "      <td>3574</td>\n",
              "    </tr>\n",
              "  </tbody>\n",
              "</table>\n",
              "</div>"
            ],
            "text/plain": [
              "   Unnamed: 0  id groups  age  healthy_eating  salary\n",
              "0           0   0      A   36               5    2297\n",
              "1           1   1      A   55               3    1134\n",
              "2           2   2      A   61               8    4969\n",
              "3           3   3      O   29               3     902\n",
              "4           4   4      O   34               6    3574"
            ]
          },
          "metadata": {
            "tags": []
          },
          "execution_count": 40
        }
      ]
    },
    {
      "metadata": {
        "id": "vmRXqQ62gxVC",
        "colab_type": "code",
        "colab": {}
      },
      "cell_type": "code",
      "source": [
        "import numpy as np"
      ],
      "execution_count": 0,
      "outputs": []
    },
    {
      "metadata": {
        "id": "2WPHRosBg9VM",
        "colab_type": "code",
        "colab": {}
      },
      "cell_type": "code",
      "source": [
        "student['marks'] = np.where(student['Roll No']>3,10,15)"
      ],
      "execution_count": 0,
      "outputs": []
    },
    {
      "metadata": {
        "id": "XBQybcYwiU13",
        "colab_type": "code",
        "outputId": "e647dcf1-d4bf-4ac3-e861-183b909b71bd",
        "colab": {
          "base_uri": "https://localhost:8080/",
          "height": 204
        }
      },
      "cell_type": "code",
      "source": [
        "student.head()"
      ],
      "execution_count": 43,
      "outputs": [
        {
          "output_type": "execute_result",
          "data": {
            "text/html": [
              "<div>\n",
              "<style scoped>\n",
              "    .dataframe tbody tr th:only-of-type {\n",
              "        vertical-align: middle;\n",
              "    }\n",
              "\n",
              "    .dataframe tbody tr th {\n",
              "        vertical-align: top;\n",
              "    }\n",
              "\n",
              "    .dataframe thead th {\n",
              "        text-align: right;\n",
              "    }\n",
              "</style>\n",
              "<table border=\"1\" class=\"dataframe\">\n",
              "  <thead>\n",
              "    <tr style=\"text-align: right;\">\n",
              "      <th></th>\n",
              "      <th>Roll No</th>\n",
              "      <th>Student Name</th>\n",
              "      <th>marks</th>\n",
              "    </tr>\n",
              "  </thead>\n",
              "  <tbody>\n",
              "    <tr>\n",
              "      <th>0</th>\n",
              "      <td>1</td>\n",
              "      <td>Jeff Bezos</td>\n",
              "      <td>15</td>\n",
              "    </tr>\n",
              "    <tr>\n",
              "      <th>1</th>\n",
              "      <td>2</td>\n",
              "      <td>Tim Cook</td>\n",
              "      <td>15</td>\n",
              "    </tr>\n",
              "    <tr>\n",
              "      <th>2</th>\n",
              "      <td>3</td>\n",
              "      <td>Sundar Pichai</td>\n",
              "      <td>15</td>\n",
              "    </tr>\n",
              "    <tr>\n",
              "      <th>3</th>\n",
              "      <td>4</td>\n",
              "      <td>Mark Zuckerberg</td>\n",
              "      <td>10</td>\n",
              "    </tr>\n",
              "    <tr>\n",
              "      <th>4</th>\n",
              "      <td>5</td>\n",
              "      <td>Satya Nadella</td>\n",
              "      <td>10</td>\n",
              "    </tr>\n",
              "  </tbody>\n",
              "</table>\n",
              "</div>"
            ],
            "text/plain": [
              "   Roll No     Student Name  marks\n",
              "0        1       Jeff Bezos     15\n",
              "1        2         Tim Cook     15\n",
              "2        3    Sundar Pichai     15\n",
              "3        4  Mark Zuckerberg     10\n",
              "4        5    Satya Nadella     10"
            ]
          },
          "metadata": {
            "tags": []
          },
          "execution_count": 43
        }
      ]
    },
    {
      "metadata": {
        "id": "T4NtzUtXie9h",
        "colab_type": "text"
      },
      "cell_type": "markdown",
      "source": [
        "### Group By Function"
      ]
    },
    {
      "metadata": {
        "id": "YTkMpmRFiWBX",
        "colab_type": "code",
        "colab": {}
      },
      "cell_type": "code",
      "source": [
        "studentGroup = student.groupby(\"marks\")"
      ],
      "execution_count": 0,
      "outputs": []
    },
    {
      "metadata": {
        "id": "nlusWLQ0ijSq",
        "colab_type": "code",
        "outputId": "af8386cb-4ddd-40eb-e3d5-c2963358096e",
        "colab": {
          "base_uri": "https://localhost:8080/",
          "height": 142
        }
      },
      "cell_type": "code",
      "source": [
        "studentGroup.first()"
      ],
      "execution_count": 45,
      "outputs": [
        {
          "output_type": "execute_result",
          "data": {
            "text/html": [
              "<div>\n",
              "<style scoped>\n",
              "    .dataframe tbody tr th:only-of-type {\n",
              "        vertical-align: middle;\n",
              "    }\n",
              "\n",
              "    .dataframe tbody tr th {\n",
              "        vertical-align: top;\n",
              "    }\n",
              "\n",
              "    .dataframe thead th {\n",
              "        text-align: right;\n",
              "    }\n",
              "</style>\n",
              "<table border=\"1\" class=\"dataframe\">\n",
              "  <thead>\n",
              "    <tr style=\"text-align: right;\">\n",
              "      <th></th>\n",
              "      <th>Roll No</th>\n",
              "      <th>Student Name</th>\n",
              "    </tr>\n",
              "    <tr>\n",
              "      <th>marks</th>\n",
              "      <th></th>\n",
              "      <th></th>\n",
              "    </tr>\n",
              "  </thead>\n",
              "  <tbody>\n",
              "    <tr>\n",
              "      <th>10</th>\n",
              "      <td>4</td>\n",
              "      <td>Mark Zuckerberg</td>\n",
              "    </tr>\n",
              "    <tr>\n",
              "      <th>15</th>\n",
              "      <td>1</td>\n",
              "      <td>Jeff Bezos</td>\n",
              "    </tr>\n",
              "  </tbody>\n",
              "</table>\n",
              "</div>"
            ],
            "text/plain": [
              "       Roll No     Student Name\n",
              "marks                          \n",
              "10           4  Mark Zuckerberg\n",
              "15           1       Jeff Bezos"
            ]
          },
          "metadata": {
            "tags": []
          },
          "execution_count": 45
        }
      ]
    },
    {
      "metadata": {
        "id": "gN9VmzQ5j46t",
        "colab_type": "text"
      },
      "cell_type": "markdown",
      "source": [
        "### Finding Null Values"
      ]
    },
    {
      "metadata": {
        "id": "Y2MPJ-y0ioJS",
        "colab_type": "code",
        "outputId": "256d364b-1928-4d9a-d14d-54caf72a37fc",
        "colab": {
          "base_uri": "https://localhost:8080/",
          "height": 136
        }
      },
      "cell_type": "code",
      "source": [
        "dataset.isnull().sum()"
      ],
      "execution_count": 46,
      "outputs": [
        {
          "output_type": "execute_result",
          "data": {
            "text/plain": [
              "Unnamed: 0        0\n",
              "id                0\n",
              "groups            0\n",
              "age               0\n",
              "healthy_eating    0\n",
              "salary            0\n",
              "dtype: int64"
            ]
          },
          "metadata": {
            "tags": []
          },
          "execution_count": 46
        }
      ]
    },
    {
      "metadata": {
        "id": "ugGz2Vz2kb6X",
        "colab_type": "text"
      },
      "cell_type": "markdown",
      "source": [
        "### Rank Function"
      ]
    },
    {
      "metadata": {
        "id": "IbW9UdACkBKu",
        "colab_type": "code",
        "colab": {}
      },
      "cell_type": "code",
      "source": [
        "student['Rank'] = student['Student Name'].rank()"
      ],
      "execution_count": 0,
      "outputs": []
    },
    {
      "metadata": {
        "id": "__obKne-kgfB",
        "colab_type": "code",
        "outputId": "36be0ebf-6f47-4ee2-e384-6f59848a9823",
        "colab": {
          "base_uri": "https://localhost:8080/",
          "height": 204
        }
      },
      "cell_type": "code",
      "source": [
        "student.head()"
      ],
      "execution_count": 48,
      "outputs": [
        {
          "output_type": "execute_result",
          "data": {
            "text/html": [
              "<div>\n",
              "<style scoped>\n",
              "    .dataframe tbody tr th:only-of-type {\n",
              "        vertical-align: middle;\n",
              "    }\n",
              "\n",
              "    .dataframe tbody tr th {\n",
              "        vertical-align: top;\n",
              "    }\n",
              "\n",
              "    .dataframe thead th {\n",
              "        text-align: right;\n",
              "    }\n",
              "</style>\n",
              "<table border=\"1\" class=\"dataframe\">\n",
              "  <thead>\n",
              "    <tr style=\"text-align: right;\">\n",
              "      <th></th>\n",
              "      <th>Roll No</th>\n",
              "      <th>Student Name</th>\n",
              "      <th>marks</th>\n",
              "      <th>Rank</th>\n",
              "    </tr>\n",
              "  </thead>\n",
              "  <tbody>\n",
              "    <tr>\n",
              "      <th>0</th>\n",
              "      <td>1</td>\n",
              "      <td>Jeff Bezos</td>\n",
              "      <td>15</td>\n",
              "      <td>1.0</td>\n",
              "    </tr>\n",
              "    <tr>\n",
              "      <th>1</th>\n",
              "      <td>2</td>\n",
              "      <td>Tim Cook</td>\n",
              "      <td>15</td>\n",
              "      <td>5.0</td>\n",
              "    </tr>\n",
              "    <tr>\n",
              "      <th>2</th>\n",
              "      <td>3</td>\n",
              "      <td>Sundar Pichai</td>\n",
              "      <td>15</td>\n",
              "      <td>4.0</td>\n",
              "    </tr>\n",
              "    <tr>\n",
              "      <th>3</th>\n",
              "      <td>4</td>\n",
              "      <td>Mark Zuckerberg</td>\n",
              "      <td>10</td>\n",
              "      <td>2.0</td>\n",
              "    </tr>\n",
              "    <tr>\n",
              "      <th>4</th>\n",
              "      <td>5</td>\n",
              "      <td>Satya Nadella</td>\n",
              "      <td>10</td>\n",
              "      <td>3.0</td>\n",
              "    </tr>\n",
              "  </tbody>\n",
              "</table>\n",
              "</div>"
            ],
            "text/plain": [
              "   Roll No     Student Name  marks  Rank\n",
              "0        1       Jeff Bezos     15   1.0\n",
              "1        2         Tim Cook     15   5.0\n",
              "2        3    Sundar Pichai     15   4.0\n",
              "3        4  Mark Zuckerberg     10   2.0\n",
              "4        5    Satya Nadella     10   3.0"
            ]
          },
          "metadata": {
            "tags": []
          },
          "execution_count": 48
        }
      ]
    },
    {
      "metadata": {
        "id": "BOBNjrTqsn3U",
        "colab_type": "text"
      },
      "cell_type": "markdown",
      "source": [
        "### Pivot Table"
      ]
    },
    {
      "metadata": {
        "id": "OpZB_mo7kksN",
        "colab_type": "code",
        "outputId": "73f9d75e-36f4-4cad-eaa2-1a6f555fe6c8",
        "colab": {
          "base_uri": "https://localhost:8080/",
          "height": 266
        }
      },
      "cell_type": "code",
      "source": [
        "student.pivot(index=\"Roll No\",columns=\"Student Name\",values=['Rank'])"
      ],
      "execution_count": 49,
      "outputs": [
        {
          "output_type": "execute_result",
          "data": {
            "text/html": [
              "<div>\n",
              "<style scoped>\n",
              "    .dataframe tbody tr th:only-of-type {\n",
              "        vertical-align: middle;\n",
              "    }\n",
              "\n",
              "    .dataframe tbody tr th {\n",
              "        vertical-align: top;\n",
              "    }\n",
              "\n",
              "    .dataframe thead tr th {\n",
              "        text-align: left;\n",
              "    }\n",
              "\n",
              "    .dataframe thead tr:last-of-type th {\n",
              "        text-align: right;\n",
              "    }\n",
              "</style>\n",
              "<table border=\"1\" class=\"dataframe\">\n",
              "  <thead>\n",
              "    <tr>\n",
              "      <th></th>\n",
              "      <th colspan=\"5\" halign=\"left\">Rank</th>\n",
              "    </tr>\n",
              "    <tr>\n",
              "      <th>Student Name</th>\n",
              "      <th>Jeff Bezos</th>\n",
              "      <th>Mark Zuckerberg</th>\n",
              "      <th>Satya Nadella</th>\n",
              "      <th>Sundar Pichai</th>\n",
              "      <th>Tim Cook</th>\n",
              "    </tr>\n",
              "    <tr>\n",
              "      <th>Roll No</th>\n",
              "      <th></th>\n",
              "      <th></th>\n",
              "      <th></th>\n",
              "      <th></th>\n",
              "      <th></th>\n",
              "    </tr>\n",
              "  </thead>\n",
              "  <tbody>\n",
              "    <tr>\n",
              "      <th>1</th>\n",
              "      <td>1.0</td>\n",
              "      <td>NaN</td>\n",
              "      <td>NaN</td>\n",
              "      <td>NaN</td>\n",
              "      <td>NaN</td>\n",
              "    </tr>\n",
              "    <tr>\n",
              "      <th>2</th>\n",
              "      <td>NaN</td>\n",
              "      <td>NaN</td>\n",
              "      <td>NaN</td>\n",
              "      <td>NaN</td>\n",
              "      <td>5.0</td>\n",
              "    </tr>\n",
              "    <tr>\n",
              "      <th>3</th>\n",
              "      <td>NaN</td>\n",
              "      <td>NaN</td>\n",
              "      <td>NaN</td>\n",
              "      <td>4.0</td>\n",
              "      <td>NaN</td>\n",
              "    </tr>\n",
              "    <tr>\n",
              "      <th>4</th>\n",
              "      <td>NaN</td>\n",
              "      <td>2.0</td>\n",
              "      <td>NaN</td>\n",
              "      <td>NaN</td>\n",
              "      <td>NaN</td>\n",
              "    </tr>\n",
              "    <tr>\n",
              "      <th>5</th>\n",
              "      <td>NaN</td>\n",
              "      <td>NaN</td>\n",
              "      <td>3.0</td>\n",
              "      <td>NaN</td>\n",
              "      <td>NaN</td>\n",
              "    </tr>\n",
              "  </tbody>\n",
              "</table>\n",
              "</div>"
            ],
            "text/plain": [
              "                   Rank                                                     \n",
              "Student Name Jeff Bezos Mark Zuckerberg Satya Nadella Sundar Pichai Tim Cook\n",
              "Roll No                                                                     \n",
              "1                   1.0             NaN           NaN           NaN      NaN\n",
              "2                   NaN             NaN           NaN           NaN      5.0\n",
              "3                   NaN             NaN           NaN           4.0      NaN\n",
              "4                   NaN             2.0           NaN           NaN      NaN\n",
              "5                   NaN             NaN           3.0           NaN      NaN"
            ]
          },
          "metadata": {
            "tags": []
          },
          "execution_count": 49
        }
      ]
    },
    {
      "metadata": {
        "id": "MWnh3U3-tSdM",
        "colab_type": "text"
      },
      "cell_type": "markdown",
      "source": [
        "### Aggregation"
      ]
    },
    {
      "metadata": {
        "id": "3LhUOQTmmYuK",
        "colab_type": "code",
        "outputId": "c11abcd7-6920-4c79-acd9-19d8a2d0250b",
        "colab": {
          "base_uri": "https://localhost:8080/",
          "height": 142
        }
      },
      "cell_type": "code",
      "source": [
        "student.aggregate({\"Roll No\":[sum,min,max],\"marks\":[sum,min,max]})"
      ],
      "execution_count": 50,
      "outputs": [
        {
          "output_type": "execute_result",
          "data": {
            "text/html": [
              "<div>\n",
              "<style scoped>\n",
              "    .dataframe tbody tr th:only-of-type {\n",
              "        vertical-align: middle;\n",
              "    }\n",
              "\n",
              "    .dataframe tbody tr th {\n",
              "        vertical-align: top;\n",
              "    }\n",
              "\n",
              "    .dataframe thead th {\n",
              "        text-align: right;\n",
              "    }\n",
              "</style>\n",
              "<table border=\"1\" class=\"dataframe\">\n",
              "  <thead>\n",
              "    <tr style=\"text-align: right;\">\n",
              "      <th></th>\n",
              "      <th>Roll No</th>\n",
              "      <th>marks</th>\n",
              "    </tr>\n",
              "  </thead>\n",
              "  <tbody>\n",
              "    <tr>\n",
              "      <th>sum</th>\n",
              "      <td>15</td>\n",
              "      <td>65</td>\n",
              "    </tr>\n",
              "    <tr>\n",
              "      <th>min</th>\n",
              "      <td>1</td>\n",
              "      <td>10</td>\n",
              "    </tr>\n",
              "    <tr>\n",
              "      <th>max</th>\n",
              "      <td>5</td>\n",
              "      <td>15</td>\n",
              "    </tr>\n",
              "  </tbody>\n",
              "</table>\n",
              "</div>"
            ],
            "text/plain": [
              "     Roll No  marks\n",
              "sum       15     65\n",
              "min        1     10\n",
              "max        5     15"
            ]
          },
          "metadata": {
            "tags": []
          },
          "execution_count": 50
        }
      ]
    },
    {
      "metadata": {
        "id": "ixZUupG5tVoj",
        "colab_type": "code",
        "outputId": "030b0f25-ce0a-4bc5-e7d3-cb47182d9fbe",
        "colab": {
          "base_uri": "https://localhost:8080/",
          "height": 297
        }
      },
      "cell_type": "code",
      "source": [
        "student.describe()"
      ],
      "execution_count": 51,
      "outputs": [
        {
          "output_type": "execute_result",
          "data": {
            "text/html": [
              "<div>\n",
              "<style scoped>\n",
              "    .dataframe tbody tr th:only-of-type {\n",
              "        vertical-align: middle;\n",
              "    }\n",
              "\n",
              "    .dataframe tbody tr th {\n",
              "        vertical-align: top;\n",
              "    }\n",
              "\n",
              "    .dataframe thead th {\n",
              "        text-align: right;\n",
              "    }\n",
              "</style>\n",
              "<table border=\"1\" class=\"dataframe\">\n",
              "  <thead>\n",
              "    <tr style=\"text-align: right;\">\n",
              "      <th></th>\n",
              "      <th>Roll No</th>\n",
              "      <th>marks</th>\n",
              "      <th>Rank</th>\n",
              "    </tr>\n",
              "  </thead>\n",
              "  <tbody>\n",
              "    <tr>\n",
              "      <th>count</th>\n",
              "      <td>5.000000</td>\n",
              "      <td>5.000000</td>\n",
              "      <td>5.000000</td>\n",
              "    </tr>\n",
              "    <tr>\n",
              "      <th>mean</th>\n",
              "      <td>3.000000</td>\n",
              "      <td>13.000000</td>\n",
              "      <td>3.000000</td>\n",
              "    </tr>\n",
              "    <tr>\n",
              "      <th>std</th>\n",
              "      <td>1.581139</td>\n",
              "      <td>2.738613</td>\n",
              "      <td>1.581139</td>\n",
              "    </tr>\n",
              "    <tr>\n",
              "      <th>min</th>\n",
              "      <td>1.000000</td>\n",
              "      <td>10.000000</td>\n",
              "      <td>1.000000</td>\n",
              "    </tr>\n",
              "    <tr>\n",
              "      <th>25%</th>\n",
              "      <td>2.000000</td>\n",
              "      <td>10.000000</td>\n",
              "      <td>2.000000</td>\n",
              "    </tr>\n",
              "    <tr>\n",
              "      <th>50%</th>\n",
              "      <td>3.000000</td>\n",
              "      <td>15.000000</td>\n",
              "      <td>3.000000</td>\n",
              "    </tr>\n",
              "    <tr>\n",
              "      <th>75%</th>\n",
              "      <td>4.000000</td>\n",
              "      <td>15.000000</td>\n",
              "      <td>4.000000</td>\n",
              "    </tr>\n",
              "    <tr>\n",
              "      <th>max</th>\n",
              "      <td>5.000000</td>\n",
              "      <td>15.000000</td>\n",
              "      <td>5.000000</td>\n",
              "    </tr>\n",
              "  </tbody>\n",
              "</table>\n",
              "</div>"
            ],
            "text/plain": [
              "        Roll No      marks      Rank\n",
              "count  5.000000   5.000000  5.000000\n",
              "mean   3.000000  13.000000  3.000000\n",
              "std    1.581139   2.738613  1.581139\n",
              "min    1.000000  10.000000  1.000000\n",
              "25%    2.000000  10.000000  2.000000\n",
              "50%    3.000000  15.000000  3.000000\n",
              "75%    4.000000  15.000000  4.000000\n",
              "max    5.000000  15.000000  5.000000"
            ]
          },
          "metadata": {
            "tags": []
          },
          "execution_count": 51
        }
      ]
    },
    {
      "metadata": {
        "id": "XpJJXPnQuH_e",
        "colab_type": "code",
        "outputId": "f1fdd084-3c79-4304-d4a5-9d929a8c11e8",
        "colab": {
          "base_uri": "https://localhost:8080/",
          "height": 315
        }
      },
      "cell_type": "code",
      "source": [
        "student.hist(\"marks\")"
      ],
      "execution_count": 52,
      "outputs": [
        {
          "output_type": "execute_result",
          "data": {
            "text/plain": [
              "array([[<matplotlib.axes._subplots.AxesSubplot object at 0x7ff85e4bcf28>]],\n",
              "      dtype=object)"
            ]
          },
          "metadata": {
            "tags": []
          },
          "execution_count": 52
        },
        {
          "output_type": "display_data",
          "data": {
            "image/png": "[encoded data removed]",
            "text/plain": [
              "<Figure size 432x288 with 1 Axes>"
            ]
          },
          "metadata": {
            "tags": []
          }
        }
      ]
    },
    {
      "metadata": {
        "id": "yUm_wD-cwtcp",
        "colab_type": "text"
      },
      "cell_type": "markdown",
      "source": [
        "## Pipe Function In Pandas"
      ]
    },
    {
      "metadata": {
        "id": "UKi8heh3uiOt",
        "colab_type": "code",
        "outputId": "68b4fc2d-ed9a-4233-f293-b6bb8039a9fa",
        "colab": {
          "base_uri": "https://localhost:8080/",
          "height": 204
        }
      },
      "cell_type": "code",
      "source": [
        "student.head()"
      ],
      "execution_count": 53,
      "outputs": [
        {
          "output_type": "execute_result",
          "data": {
            "text/html": [
              "<div>\n",
              "<style scoped>\n",
              "    .dataframe tbody tr th:only-of-type {\n",
              "        vertical-align: middle;\n",
              "    }\n",
              "\n",
              "    .dataframe tbody tr th {\n",
              "        vertical-align: top;\n",
              "    }\n",
              "\n",
              "    .dataframe thead th {\n",
              "        text-align: right;\n",
              "    }\n",
              "</style>\n",
              "<table border=\"1\" class=\"dataframe\">\n",
              "  <thead>\n",
              "    <tr style=\"text-align: right;\">\n",
              "      <th></th>\n",
              "      <th>Roll No</th>\n",
              "      <th>Student Name</th>\n",
              "      <th>marks</th>\n",
              "      <th>Rank</th>\n",
              "    </tr>\n",
              "  </thead>\n",
              "  <tbody>\n",
              "    <tr>\n",
              "      <th>0</th>\n",
              "      <td>1</td>\n",
              "      <td>Jeff Bezos</td>\n",
              "      <td>15</td>\n",
              "      <td>1.0</td>\n",
              "    </tr>\n",
              "    <tr>\n",
              "      <th>1</th>\n",
              "      <td>2</td>\n",
              "      <td>Tim Cook</td>\n",
              "      <td>15</td>\n",
              "      <td>5.0</td>\n",
              "    </tr>\n",
              "    <tr>\n",
              "      <th>2</th>\n",
              "      <td>3</td>\n",
              "      <td>Sundar Pichai</td>\n",
              "      <td>15</td>\n",
              "      <td>4.0</td>\n",
              "    </tr>\n",
              "    <tr>\n",
              "      <th>3</th>\n",
              "      <td>4</td>\n",
              "      <td>Mark Zuckerberg</td>\n",
              "      <td>10</td>\n",
              "      <td>2.0</td>\n",
              "    </tr>\n",
              "    <tr>\n",
              "      <th>4</th>\n",
              "      <td>5</td>\n",
              "      <td>Satya Nadella</td>\n",
              "      <td>10</td>\n",
              "      <td>3.0</td>\n",
              "    </tr>\n",
              "  </tbody>\n",
              "</table>\n",
              "</div>"
            ],
            "text/plain": [
              "   Roll No     Student Name  marks  Rank\n",
              "0        1       Jeff Bezos     15   1.0\n",
              "1        2         Tim Cook     15   5.0\n",
              "2        3    Sundar Pichai     15   4.0\n",
              "3        4  Mark Zuckerberg     10   2.0\n",
              "4        5    Satya Nadella     10   3.0"
            ]
          },
          "metadata": {
            "tags": []
          },
          "execution_count": 53
        }
      ]
    },
    {
      "metadata": {
        "id": "Ny2QEZKWwwVh",
        "colab_type": "code",
        "colab": {}
      },
      "cell_type": "code",
      "source": [
        "def addmarks(marks,*arg):\n",
        "  return marks+arg[0]\n",
        "student['marks'] = student['marks'].pipe(addmarks,10)"
      ],
      "execution_count": 0,
      "outputs": []
    },
    {
      "metadata": {
        "id": "WP1ri5Kow_bM",
        "colab_type": "code",
        "outputId": "123044e0-71e3-4dcb-a02f-bf18822c096f",
        "colab": {
          "base_uri": "https://localhost:8080/",
          "height": 204
        }
      },
      "cell_type": "code",
      "source": [
        "student.head()"
      ],
      "execution_count": 55,
      "outputs": [
        {
          "output_type": "execute_result",
          "data": {
            "text/html": [
              "<div>\n",
              "<style scoped>\n",
              "    .dataframe tbody tr th:only-of-type {\n",
              "        vertical-align: middle;\n",
              "    }\n",
              "\n",
              "    .dataframe tbody tr th {\n",
              "        vertical-align: top;\n",
              "    }\n",
              "\n",
              "    .dataframe thead th {\n",
              "        text-align: right;\n",
              "    }\n",
              "</style>\n",
              "<table border=\"1\" class=\"dataframe\">\n",
              "  <thead>\n",
              "    <tr style=\"text-align: right;\">\n",
              "      <th></th>\n",
              "      <th>Roll No</th>\n",
              "      <th>Student Name</th>\n",
              "      <th>marks</th>\n",
              "      <th>Rank</th>\n",
              "    </tr>\n",
              "  </thead>\n",
              "  <tbody>\n",
              "    <tr>\n",
              "      <th>0</th>\n",
              "      <td>1</td>\n",
              "      <td>Jeff Bezos</td>\n",
              "      <td>25</td>\n",
              "      <td>1.0</td>\n",
              "    </tr>\n",
              "    <tr>\n",
              "      <th>1</th>\n",
              "      <td>2</td>\n",
              "      <td>Tim Cook</td>\n",
              "      <td>25</td>\n",
              "      <td>5.0</td>\n",
              "    </tr>\n",
              "    <tr>\n",
              "      <th>2</th>\n",
              "      <td>3</td>\n",
              "      <td>Sundar Pichai</td>\n",
              "      <td>25</td>\n",
              "      <td>4.0</td>\n",
              "    </tr>\n",
              "    <tr>\n",
              "      <th>3</th>\n",
              "      <td>4</td>\n",
              "      <td>Mark Zuckerberg</td>\n",
              "      <td>20</td>\n",
              "      <td>2.0</td>\n",
              "    </tr>\n",
              "    <tr>\n",
              "      <th>4</th>\n",
              "      <td>5</td>\n",
              "      <td>Satya Nadella</td>\n",
              "      <td>20</td>\n",
              "      <td>3.0</td>\n",
              "    </tr>\n",
              "  </tbody>\n",
              "</table>\n",
              "</div>"
            ],
            "text/plain": [
              "   Roll No     Student Name  marks  Rank\n",
              "0        1       Jeff Bezos     25   1.0\n",
              "1        2         Tim Cook     25   5.0\n",
              "2        3    Sundar Pichai     25   4.0\n",
              "3        4  Mark Zuckerberg     20   2.0\n",
              "4        5    Satya Nadella     20   3.0"
            ]
          },
          "metadata": {
            "tags": []
          },
          "execution_count": 55
        }
      ]
    },
    {
      "metadata": {
        "id": "KPOZvor-yIzX",
        "colab_type": "text"
      },
      "cell_type": "markdown",
      "source": [
        "## Apply Function"
      ]
    },
    {
      "metadata": {
        "id": "spxxCsPlxH6X",
        "colab_type": "code",
        "colab": {}
      },
      "cell_type": "code",
      "source": [
        "student[\"mean\"] = student[['marks','Rank']].apply(np.mean,axis=1)"
      ],
      "execution_count": 0,
      "outputs": []
    },
    {
      "metadata": {
        "id": "o-_H7MiqxgAI",
        "colab_type": "code",
        "outputId": "33241558-cc04-4ae1-ec1b-7dc3d5b8e86b",
        "colab": {
          "base_uri": "https://localhost:8080/",
          "height": 204
        }
      },
      "cell_type": "code",
      "source": [
        "student.head()"
      ],
      "execution_count": 57,
      "outputs": [
        {
          "output_type": "execute_result",
          "data": {
            "text/html": [
              "<div>\n",
              "<style scoped>\n",
              "    .dataframe tbody tr th:only-of-type {\n",
              "        vertical-align: middle;\n",
              "    }\n",
              "\n",
              "    .dataframe tbody tr th {\n",
              "        vertical-align: top;\n",
              "    }\n",
              "\n",
              "    .dataframe thead th {\n",
              "        text-align: right;\n",
              "    }\n",
              "</style>\n",
              "<table border=\"1\" class=\"dataframe\">\n",
              "  <thead>\n",
              "    <tr style=\"text-align: right;\">\n",
              "      <th></th>\n",
              "      <th>Roll No</th>\n",
              "      <th>Student Name</th>\n",
              "      <th>marks</th>\n",
              "      <th>Rank</th>\n",
              "      <th>mean</th>\n",
              "    </tr>\n",
              "  </thead>\n",
              "  <tbody>\n",
              "    <tr>\n",
              "      <th>0</th>\n",
              "      <td>1</td>\n",
              "      <td>Jeff Bezos</td>\n",
              "      <td>25</td>\n",
              "      <td>1.0</td>\n",
              "      <td>13.0</td>\n",
              "    </tr>\n",
              "    <tr>\n",
              "      <th>1</th>\n",
              "      <td>2</td>\n",
              "      <td>Tim Cook</td>\n",
              "      <td>25</td>\n",
              "      <td>5.0</td>\n",
              "      <td>15.0</td>\n",
              "    </tr>\n",
              "    <tr>\n",
              "      <th>2</th>\n",
              "      <td>3</td>\n",
              "      <td>Sundar Pichai</td>\n",
              "      <td>25</td>\n",
              "      <td>4.0</td>\n",
              "      <td>14.5</td>\n",
              "    </tr>\n",
              "    <tr>\n",
              "      <th>3</th>\n",
              "      <td>4</td>\n",
              "      <td>Mark Zuckerberg</td>\n",
              "      <td>20</td>\n",
              "      <td>2.0</td>\n",
              "      <td>11.0</td>\n",
              "    </tr>\n",
              "    <tr>\n",
              "      <th>4</th>\n",
              "      <td>5</td>\n",
              "      <td>Satya Nadella</td>\n",
              "      <td>20</td>\n",
              "      <td>3.0</td>\n",
              "      <td>11.5</td>\n",
              "    </tr>\n",
              "  </tbody>\n",
              "</table>\n",
              "</div>"
            ],
            "text/plain": [
              "   Roll No     Student Name  marks  Rank  mean\n",
              "0        1       Jeff Bezos     25   1.0  13.0\n",
              "1        2         Tim Cook     25   5.0  15.0\n",
              "2        3    Sundar Pichai     25   4.0  14.5\n",
              "3        4  Mark Zuckerberg     20   2.0  11.0\n",
              "4        5    Satya Nadella     20   3.0  11.5"
            ]
          },
          "metadata": {
            "tags": []
          },
          "execution_count": 57
        }
      ]
    },
    {
      "metadata": {
        "id": "hipk7qc9x_tY",
        "colab_type": "code",
        "colab": {}
      },
      "cell_type": "code",
      "source": [
        ""
      ],
      "execution_count": 0,
      "outputs": []
    }
  ]
}